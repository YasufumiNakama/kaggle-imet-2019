{
 "cells": [
  {
   "cell_type": "markdown",
   "metadata": {},
   "source": [
    "## Libraries"
   ]
  },
  {
   "cell_type": "code",
   "execution_count": 1,
   "metadata": {
    "_cell_guid": "b1076dfc-b9ad-4769-8c92-a6c4dae69d19",
    "_uuid": "8f2839f25d086af736a60e9eeb907d3b93b6e0e5"
   },
   "outputs": [],
   "source": [
    "import gc\n",
    "import os\n",
    "import sys\n",
    "import time\n",
    "import random\n",
    "from logging import getLogger, INFO, StreamHandler, FileHandler, Formatter\n",
    "import datetime as dt\n",
    "\n",
    "import numpy as np\n",
    "import pandas as pd\n",
    "import matplotlib.pyplot as plt\n",
    "\n",
    "import torch\n",
    "import torch.nn as nn\n",
    "import torch.optim as optim\n",
    "import torch.utils.data as data\n",
    "import torch.nn.functional as F\n",
    "import torchvision as vision\n",
    "from torchvision import datasets, models, transforms\n",
    "from torch.optim import lr_scheduler\n",
    "\n",
    "from pathlib import Path\n",
    "from PIL import Image\n",
    "from contextlib import contextmanager\n",
    "import warnings\n",
    "warnings.filterwarnings('ignore')\n",
    "\n",
    "from joblib import Parallel, delayed\n",
    "from tqdm import tqdm, tqdm_notebook\n",
    "from fastprogress import master_bar, progress_bar\n",
    "\n",
    "from sklearn.model_selection import KFold\n",
    "from sklearn.metrics import fbeta_score\n",
    "from sklearn.model_selection import train_test_split"
   ]
  },
  {
   "cell_type": "code",
   "execution_count": 2,
   "metadata": {},
   "outputs": [],
   "source": [
    "def seed_torch(seed=1234):\n",
    "    random.seed(seed)\n",
    "    os.environ[\"PYTHONHASHSEED\"] = str(seed)\n",
    "    np.random.seed(seed)\n",
    "    torch.manual_seed(seed)\n",
    "    torch.cuda.manual_seed_all(seed)\n",
    "    torch.backends.cudnn.deterministic = True\n",
    "\n",
    "seed_torch(seed=1234)"
   ]
  },
  {
   "cell_type": "code",
   "execution_count": 3,
   "metadata": {},
   "outputs": [],
   "source": [
    "def get_logger():\n",
    "    logger = getLogger(__name__)\n",
    "    logger.setLevel(INFO)\n",
    "    # handler1\n",
    "    handler1 = StreamHandler()\n",
    "    handler1.setFormatter(Formatter(\"%(asctime)s %(levelname)8s %(message)s\"))\n",
    "    # handler2\n",
    "    handler2 = FileHandler(filename=dt.datetime.now().strftime(\"%Y-%m-%d-%H-%M-%S\")+\".log\")\n",
    "    handler2.setFormatter(Formatter(\"%(asctime)s %(levelname)8s %(message)s\"))\n",
    "    # addHandler\n",
    "    logger.addHandler(handler1)\n",
    "    logger.addHandler(handler2)\n",
    "    return logger\n",
    "\n",
    "logger = get_logger()"
   ]
  },
  {
   "cell_type": "markdown",
   "metadata": {},
   "source": [
    "## Csv Loading"
   ]
  },
  {
   "cell_type": "code",
   "execution_count": 4,
   "metadata": {},
   "outputs": [
    {
     "name": "stdout",
     "output_type": "stream",
     "text": [
      "labels.csv  sample_submission.csv  test  train\ttrain.csv\r\n"
     ]
    }
   ],
   "source": [
    "!ls ../input/imet-2019-fgvc6/"
   ]
  },
  {
   "cell_type": "code",
   "execution_count": 5,
   "metadata": {},
   "outputs": [
    {
     "data": {
      "text/html": [
       "<div>\n",
       "<style scoped>\n",
       "    .dataframe tbody tr th:only-of-type {\n",
       "        vertical-align: middle;\n",
       "    }\n",
       "\n",
       "    .dataframe tbody tr th {\n",
       "        vertical-align: top;\n",
       "    }\n",
       "\n",
       "    .dataframe thead th {\n",
       "        text-align: right;\n",
       "    }\n",
       "</style>\n",
       "<table border=\"1\" class=\"dataframe\">\n",
       "  <thead>\n",
       "    <tr style=\"text-align: right;\">\n",
       "      <th></th>\n",
       "      <th>id</th>\n",
       "      <th>attribute_ids</th>\n",
       "    </tr>\n",
       "  </thead>\n",
       "  <tbody>\n",
       "    <tr>\n",
       "      <th>0</th>\n",
       "      <td>1000483014d91860</td>\n",
       "      <td>147 616 813</td>\n",
       "    </tr>\n",
       "    <tr>\n",
       "      <th>1</th>\n",
       "      <td>1000fe2e667721fe</td>\n",
       "      <td>51 616 734 813</td>\n",
       "    </tr>\n",
       "    <tr>\n",
       "      <th>2</th>\n",
       "      <td>1001614cb89646ee</td>\n",
       "      <td>776</td>\n",
       "    </tr>\n",
       "    <tr>\n",
       "      <th>3</th>\n",
       "      <td>10041eb49b297c08</td>\n",
       "      <td>51 671 698 813 1092</td>\n",
       "    </tr>\n",
       "    <tr>\n",
       "      <th>4</th>\n",
       "      <td>100501c227f8beea</td>\n",
       "      <td>13 404 492 903 1093</td>\n",
       "    </tr>\n",
       "  </tbody>\n",
       "</table>\n",
       "</div>"
      ],
      "text/plain": [
       "                 id        attribute_ids\n",
       "0  1000483014d91860          147 616 813\n",
       "1  1000fe2e667721fe       51 616 734 813\n",
       "2  1001614cb89646ee                  776\n",
       "3  10041eb49b297c08  51 671 698 813 1092\n",
       "4  100501c227f8beea  13 404 492 903 1093"
      ]
     },
     "execution_count": 5,
     "metadata": {},
     "output_type": "execute_result"
    }
   ],
   "source": [
    "labels = pd.read_csv(\"../input/imet-2019-fgvc6/labels.csv\")\n",
    "train = pd.read_csv(\"../input/imet-2019-fgvc6/train.csv\")\n",
    "sample = pd.read_csv(\"../input/imet-2019-fgvc6/sample_submission.csv\")\n",
    "train.head()"
   ]
  },
  {
   "cell_type": "code",
   "execution_count": 6,
   "metadata": {},
   "outputs": [
    {
     "name": "stdout",
     "output_type": "stream",
     "text": [
      "1103\n"
     ]
    },
    {
     "data": {
      "text/html": [
       "<div>\n",
       "<style scoped>\n",
       "    .dataframe tbody tr th:only-of-type {\n",
       "        vertical-align: middle;\n",
       "    }\n",
       "\n",
       "    .dataframe tbody tr th {\n",
       "        vertical-align: top;\n",
       "    }\n",
       "\n",
       "    .dataframe thead th {\n",
       "        text-align: right;\n",
       "    }\n",
       "</style>\n",
       "<table border=\"1\" class=\"dataframe\">\n",
       "  <thead>\n",
       "    <tr style=\"text-align: right;\">\n",
       "      <th></th>\n",
       "      <th>attribute_id</th>\n",
       "      <th>attribute_name</th>\n",
       "    </tr>\n",
       "  </thead>\n",
       "  <tbody>\n",
       "    <tr>\n",
       "      <th>0</th>\n",
       "      <td>0</td>\n",
       "      <td>culture::abruzzi</td>\n",
       "    </tr>\n",
       "    <tr>\n",
       "      <th>1</th>\n",
       "      <td>1</td>\n",
       "      <td>culture::achaemenid</td>\n",
       "    </tr>\n",
       "    <tr>\n",
       "      <th>2</th>\n",
       "      <td>2</td>\n",
       "      <td>culture::aegean</td>\n",
       "    </tr>\n",
       "    <tr>\n",
       "      <th>3</th>\n",
       "      <td>3</td>\n",
       "      <td>culture::afghan</td>\n",
       "    </tr>\n",
       "    <tr>\n",
       "      <th>4</th>\n",
       "      <td>4</td>\n",
       "      <td>culture::after british</td>\n",
       "    </tr>\n",
       "  </tbody>\n",
       "</table>\n",
       "</div>"
      ],
      "text/plain": [
       "   attribute_id          attribute_name\n",
       "0             0        culture::abruzzi\n",
       "1             1     culture::achaemenid\n",
       "2             2         culture::aegean\n",
       "3             3         culture::afghan\n",
       "4             4  culture::after british"
      ]
     },
     "execution_count": 6,
     "metadata": {},
     "output_type": "execute_result"
    }
   ],
   "source": [
    "print(labels.attribute_id.nunique())\n",
    "labels.head()"
   ]
  },
  {
   "cell_type": "code",
   "execution_count": 7,
   "metadata": {},
   "outputs": [
    {
     "name": "stdout",
     "output_type": "stream",
     "text": [
      "cp: cannot stat '../input/pytorch-pretrained-image-models/*': No such file or directory\r\n",
      "2019-04-26-07-14-00.log  __notebook__.ipynb  __output__.json\r\n"
     ]
    }
   ],
   "source": [
    "!cp ../input/pytorch-pretrained-image-models/* ./\n",
    "!ls"
   ]
  },
  {
   "cell_type": "markdown",
   "metadata": {},
   "source": [
    "## DataLoader"
   ]
  },
  {
   "cell_type": "code",
   "execution_count": 8,
   "metadata": {},
   "outputs": [],
   "source": [
    "# https://pytorch.org/tutorials/beginner/finetuning_torchvision_models_tutorial.html\n",
    "# Data augmentation and normalization for training\n",
    "# Just normalization for validation\n",
    "\n",
    "input_size = 224\n",
    "\n",
    "data_transforms = {\n",
    "    'train': transforms.Compose([\n",
    "        transforms.RandomResizedCrop(input_size),\n",
    "        transforms.RandomHorizontalFlip(),\n",
    "        transforms.ToTensor(),\n",
    "        transforms.Normalize([0.485, 0.456, 0.406], [0.229, 0.224, 0.225])\n",
    "    ]),\n",
    "    'val': transforms.Compose([\n",
    "        transforms.Resize(input_size),\n",
    "        transforms.CenterCrop(input_size),\n",
    "        transforms.ToTensor(),\n",
    "        transforms.Normalize([0.485, 0.456, 0.406], [0.229, 0.224, 0.225])\n",
    "    ]),\n",
    "}\n",
    "\n",
    "data_transforms[\"test\"] = data_transforms[\"val\"]\n",
    "\n",
    "# Without KFold, We won't use data_transforms[\"val\"] this time...\n",
    "# We will use data_transforms[\"train\"] for \"..input/train\" folders, data_transforms[\"test\"] for \"..input/test\" folders"
   ]
  },
  {
   "cell_type": "code",
   "execution_count": 9,
   "metadata": {},
   "outputs": [],
   "source": [
    "class IMetDataset(data.Dataset):\n",
    "    def __init__(self, datafolder, datatype='train', index=[], device=\"cuda:0\",\n",
    "                 transform=transforms.Compose([transforms.CenterCrop(32),transforms.ToTensor()]), \n",
    "                 labels_dict={}):\n",
    "        self.datafolder = datafolder\n",
    "        self.datatype = datatype\n",
    "        self.index = index\n",
    "        self.device = device\n",
    "        self.transform = transform\n",
    "        self.labels_dict = labels_dict\n",
    "        if self.datatype == 'train' or self.datatype == 'val':\n",
    "            if self.index==[]:\n",
    "                self.image_files_list = [s for s in os.listdir(datafolder)]\n",
    "                self.labels = [labels_dict[i.split('.')[0]] for i in self.image_files_list]\n",
    "            else:\n",
    "                self.image_files_list = np.array([s for s in os.listdir(datafolder)])[index]\n",
    "                self.labels = [labels_dict[i.split('.')[0]] for i in self.image_files_list]\n",
    "        else:\n",
    "            self.image_files_list = [s for s in os.listdir(datafolder)]\n",
    "            self.labels = [0 for _ in range(len(self.image_files_list))]\n",
    "        \n",
    "    def __len__(self):\n",
    "        return len(self.image_files_list)\n",
    "    \n",
    "    def __getitem__(self, idx):\n",
    "        #img_name = os.path.join(self.datafolder, self.image_files_list[idx])\n",
    "        img_name = os.path.join(self.datafolder, self.image_files_list[idx])\n",
    "        image = Image.open(img_name)\n",
    "        image = self.transform(image)\n",
    "        img_name_short = self.image_files_list[idx].split('.')[0]\n",
    "        if self.datatype == 'train' or self.datatype == 'val':\n",
    "            label = self.labels_dict[img_name_short]\n",
    "            # Target has some labels, So we need to change labels to tensor\n",
    "            label_tensor = torch.zeros((1, 1103))\n",
    "            for i in label:\n",
    "                label_tensor[0, int(i)] = 1\n",
    "            label_tensor = label_tensor.to(self.device)\n",
    "            return image, label_tensor\n",
    "        else:\n",
    "            label = 0\n",
    "            return image, label"
   ]
  },
  {
   "cell_type": "markdown",
   "metadata": {},
   "source": [
    "## Trainer"
   ]
  },
  {
   "cell_type": "code",
   "execution_count": 10,
   "metadata": {},
   "outputs": [],
   "source": [
    "class Trainer:\n",
    "    def __init__(self, model, logger, loss_fn, train_batch=32, valid_batch=128, seed=1234, \n",
    "                 device=\"cuda:0\", model_name=\"best_model\"):\n",
    "        self.model = model\n",
    "        self.logger = logger\n",
    "        self.loss_fn = loss_fn.to(device)\n",
    "        self.train_batch = train_batch\n",
    "        self.valid_batch = valid_batch\n",
    "        self.seed = seed\n",
    "        self.device = device\n",
    "        self.model_name = model_name\n",
    "    \n",
    "    def fit(self, tr_idx, val_idx, img_class_dict, n_epochs=10, num_workers=0):\n",
    "        # train loader & valid loader\n",
    "        train_dataset = IMetDataset(datafolder='../input/imet-2019-fgvc6/train/', \n",
    "                                    datatype='train', \n",
    "                                    index=tr_idx, \n",
    "                                    transform=data_transforms[\"train\"], \n",
    "                                    labels_dict=img_class_dict)\n",
    "        train_loader = data.DataLoader(train_dataset, \n",
    "                                       batch_size=self.train_batch,\n",
    "                                       shuffle=True)\n",
    "\n",
    "        valid_dataset = IMetDataset(datafolder='../input/imet-2019-fgvc6/train/', \n",
    "                                    datatype='val', \n",
    "                                    index=val_idx, \n",
    "                                    transform=data_transforms[\"val\"], \n",
    "                                    labels_dict=img_class_dict)\n",
    "        valid_loader = data.DataLoader(valid_dataset,\n",
    "                                       batch_size=self.valid_batch,\n",
    "                                       shuffle=False)\n",
    "        # model\n",
    "        model = self.model\n",
    "        model.to(self.device)\n",
    "        # optimizer\n",
    "        optimizer = optim.Adam(params=model.parameters(), lr=0.0001)\n",
    "        # scheduler\n",
    "        scheduler = lr_scheduler.CosineAnnealingLR(optimizer, T_max=n_epochs)\n",
    "        # set best_score\n",
    "        best_score = np.inf\n",
    "        # master_bar\n",
    "        mb = master_bar(range(n_epochs))\n",
    "        for epoch in mb:\n",
    "            model.train()\n",
    "            avg_loss = 0.0\n",
    "            train_losses = []\n",
    "            for i_batch, y_batch in progress_bar(train_loader, parent=mb):\n",
    "                # zero the parameter gradients\n",
    "                optimizer.zero_grad()\n",
    "                # pred & loss\n",
    "                y_pred = model(i_batch.cuda())\n",
    "                y_batch = y_batch.view(y_batch.size()[0], -1) # flatten y_batch\n",
    "                loss = self.loss_fn(y_pred, y_batch)\n",
    "                #self.logger.info(\"loss: {}\".format(loss))\n",
    "                # backward + optimize in training phase\n",
    "                loss.backward()\n",
    "                optimizer.step()\n",
    "                # avg_loss\n",
    "                avg_loss = loss.item()\n",
    "                train_losses.append(avg_loss)\n",
    "                #avg_loss += loss.item() / len(train_loader)\n",
    "                #self.logger.info(\"avg_loss: {:.8f}    loss.item(): {}    len(train_loader): {}\"\\\n",
    "                             #.format(avg_loss, loss.item(), len(train_loader)))\n",
    "            # val\n",
    "            valid_preds, valid_y, avg_val_loss = self.val(valid_loader, model)\n",
    "            scheduler.step()\n",
    "            # save best model\n",
    "            if best_score > avg_val_loss:\n",
    "                torch.save(model.state_dict(), self.model_name+\".pth\")\n",
    "                torch.save(optimizer.state_dict(), \"optimizer.pth\")\n",
    "                torch.save(scheduler.state_dict(), \"scheduler.pth\")\n",
    "                best_score = avg_val_loss\n",
    "            # logger\n",
    "            self.logger.info(\"Epoch {} / {} \".format(epoch+1, n_epochs))\n",
    "            #self.logger.info(\"avg_loss: {:.8f}    avg_val_loss: {:.8f}    best_avg_val_loss: {:.8f}\"\\\n",
    "                             #.format(avg_loss, avg_val_loss, best_score))\n",
    "            self.logger.info(\"avg_loss: {:.8f}    avg_val_loss: {:.8f}    best_avg_val_loss: {:.8f}\"\\\n",
    "                             .format(sum(train_losses[-100:])/len(train_losses[-100:]), avg_val_loss, best_score))\n",
    "        # output of best model      \n",
    "        model.load_state_dict(torch.load(self.model_name+\".pth\"))\n",
    "        # eval\n",
    "        valid_preds, valid_y, _ = self.val(valid_loader, model)\n",
    "        return valid_preds, valid_y\n",
    "    \n",
    "    def val(self, loader, model):\n",
    "        model.eval()\n",
    "        valid_preds = np.zeros((len(loader.dataset), 1103))\n",
    "        valid_y = np.zeros((len(loader.dataset), 1103))\n",
    "        avg_val_loss = 0.0\n",
    "        for i, (i_batch, y_batch) in enumerate(loader):\n",
    "            with torch.no_grad():\n",
    "                y_pred = model(i_batch.cuda()).detach()\n",
    "                y_batch = y_batch.view(y_batch.size()[0], -1) # flatten y_batch\n",
    "                avg_val_loss += self.loss_fn(y_pred, y_batch).item() / len(loader)\n",
    "                if i_batch.size()[0]==self.valid_batch:\n",
    "                    valid_preds[i * self.valid_batch : (i+1) * self.valid_batch] = y_pred.cpu().numpy()\n",
    "                    valid_y[i * self.valid_batch : (i+1) * self.valid_batch] = y_batch.cpu().numpy()\n",
    "                else:\n",
    "                    valid_preds[len(loader.dataset) - i_batch.size()[0] : ] = y_pred.cpu().numpy()\n",
    "                    valid_y[len(loader.dataset) - i_batch.size()[0] : ] = y_batch.cpu().numpy()\n",
    "        return valid_preds, valid_y, avg_val_loss\n",
    "    \n",
    "    def predict(self, loader):\n",
    "        model = self.model\n",
    "        model.load_state_dict(torch.load(self.model_name+\".pth\"))\n",
    "        model.to(self.device)\n",
    "        model.eval()\n",
    "        preds = np.zeros((len(loader.dataset), 1103))\n",
    "        for i, (i_batch, _) in enumerate(loader):\n",
    "            with torch.no_grad():\n",
    "                y_pred = model(i_batch.cuda()).detach()\n",
    "                if i_batch.size()[0]==self.valid_batch:\n",
    "                    preds[i * self.valid_batch : (i+1) * self.valid_batch] = y_pred.cpu().numpy()\n",
    "                else:\n",
    "                    preds[len(loader.dataset) - i_batch.size()[0] : ] = y_pred.cpu().numpy()\n",
    "        return preds"
   ]
  },
  {
   "cell_type": "markdown",
   "metadata": {},
   "source": [
    "## Model"
   ]
  },
  {
   "cell_type": "code",
   "execution_count": 11,
   "metadata": {},
   "outputs": [
    {
     "name": "stderr",
     "output_type": "stream",
     "text": [
      "Downloading: \"https://download.pytorch.org/models/resnet18-5c106cde.pth\" to /tmp/.torch/models/resnet18-5c106cde.pth\n",
      "46827520it [00:00, 108387067.01it/s]\n"
     ]
    }
   ],
   "source": [
    "model_conv = models.resnet18(pretrained='imagenet')\n",
    "#for i, param in model_conv.named_parameters():\n",
    "    #param.requires_grad = False"
   ]
  },
  {
   "cell_type": "code",
   "execution_count": 12,
   "metadata": {},
   "outputs": [],
   "source": [
    "class Classifier(nn.Module):\n",
    "    def __init__(self):\n",
    "        super(Classifier, self).__init__()\n",
    "        \n",
    "    def forward(self, x):\n",
    "        return x\n",
    "\n",
    "num_ftrs = model_conv.fc.in_features\n",
    "#model_conv.fc = nn.Linear(num_ftrs, 1103)\n",
    "model_conv.fc = Classifier()"
   ]
  },
  {
   "cell_type": "code",
   "execution_count": 13,
   "metadata": {},
   "outputs": [],
   "source": [
    "# 2層のMLP\n",
    "mlp = nn.Sequential(\n",
    "    nn.Linear(num_ftrs, num_ftrs),\n",
    "    nn.ReLU(),\n",
    "    nn.BatchNorm1d(num_ftrs),\n",
    "    nn.Dropout(0.25),\n",
    "    nn.Linear(num_ftrs, 1103)\n",
    ")"
   ]
  },
  {
   "cell_type": "code",
   "execution_count": 14,
   "metadata": {},
   "outputs": [],
   "source": [
    "# 最終的なCNN\n",
    "net = nn.Sequential(\n",
    "    model_conv,\n",
    "    mlp,\n",
    "    nn.Sigmoid()\n",
    ")"
   ]
  },
  {
   "cell_type": "code",
   "execution_count": 15,
   "metadata": {},
   "outputs": [],
   "source": [
    "#net"
   ]
  },
  {
   "cell_type": "code",
   "execution_count": 16,
   "metadata": {},
   "outputs": [],
   "source": [
    "# https://www.kaggle.com/c/tgs-salt-identification-challenge/discussion/65938\n",
    "\n",
    "class FocalLoss(nn.Module):\n",
    "    def __init__(self, alpha=1, gamma=2, logits=False, reduce=True):\n",
    "        super(FocalLoss, self).__init__()\n",
    "        self.alpha = alpha\n",
    "        self.gamma = gamma\n",
    "        self.logits = logits\n",
    "        self.reduce = reduce\n",
    "\n",
    "    def forward(self, inputs, targets):\n",
    "        if self.logits:\n",
    "            BCE_loss = F.binary_cross_entropy_with_logits(inputs, targets, reduce=False)\n",
    "        else:\n",
    "            BCE_loss = F.binary_cross_entropy(inputs, targets, reduce=False)\n",
    "        pt = torch.exp(-BCE_loss)\n",
    "        F_loss = self.alpha * (1-pt)**self.gamma * BCE_loss\n",
    "\n",
    "        if self.reduce:\n",
    "            return torch.mean(F_loss)\n",
    "        else:\n",
    "            return F_loss"
   ]
  },
  {
   "cell_type": "markdown",
   "metadata": {},
   "source": [
    "# Training"
   ]
  },
  {
   "cell_type": "code",
   "execution_count": 17,
   "metadata": {},
   "outputs": [],
   "source": [
    "loss_fn = nn.BCELoss(reduction=\"mean\")\n",
    "#loss_fn = FocalLoss()\n",
    "trainer = Trainer(net, logger, loss_fn, train_batch=32, valid_batch=128, seed=1234, device=\"cuda:0\")"
   ]
  },
  {
   "cell_type": "code",
   "execution_count": 18,
   "metadata": {},
   "outputs": [],
   "source": [
    "# indices for validation\n",
    "tr, val = train_test_split(train.id, test_size=0.2, random_state=1234)\n",
    "tr, val = tr.index, val.index\n",
    "#tr, val = list(tr), list(val)\n",
    "# X_train, y_train, X_val, y_val\n",
    "img_class_dict = {k:v for k, v in zip(train.id, train.attribute_ids.map(lambda x: x.split()).values)}"
   ]
  },
  {
   "cell_type": "code",
   "execution_count": 19,
   "metadata": {},
   "outputs": [
    {
     "data": {
      "text/html": [
       "\n",
       "    <div>\n",
       "        <style>\n",
       "            /* Turns off some styling */\n",
       "            progress {\n",
       "                /* gets rid of default border in Firefox and Opera. */\n",
       "                border: none;\n",
       "                /* Needs to be in here for Safari polyfill so background images work as expected. */\n",
       "                background-size: auto;\n",
       "            }\n",
       "            .progress-bar-interrupted, .progress-bar-interrupted::-webkit-progress-bar {\n",
       "                background: #F44336;\n",
       "            }\n",
       "        </style>\n",
       "      <progress value='1' class='' max='20', style='width:300px; height:20px; vertical-align: middle;'></progress>\n",
       "      5.00% [1/20 19:52<6:17:40]\n",
       "    </div>\n",
       "    \n",
       "\n",
       "\n",
       "    <div>\n",
       "        <style>\n",
       "            /* Turns off some styling */\n",
       "            progress {\n",
       "                /* gets rid of default border in Firefox and Opera. */\n",
       "                border: none;\n",
       "                /* Needs to be in here for Safari polyfill so background images work as expected. */\n",
       "                background-size: auto;\n",
       "            }\n",
       "            .progress-bar-interrupted, .progress-bar-interrupted::-webkit-progress-bar {\n",
       "                background: #F44336;\n",
       "            }\n",
       "        </style>\n",
       "      <progress value='690' class='' max='2731', style='width:300px; height:20px; vertical-align: middle;'></progress>\n",
       "      25.27% [690/2731 04:03<12:01]\n",
       "    </div>\n",
       "    "
      ],
      "text/plain": [
       "<IPython.core.display.HTML object>"
      ]
     },
     "metadata": {},
     "output_type": "display_data"
    },
    {
     "name": "stderr",
     "output_type": "stream",
     "text": [
      "2019-04-26 07:34:00,235     INFO Epoch 1 / 20 \n",
      "2019-04-26 07:34:00,237     INFO avg_loss: 0.01563551    avg_val_loss: 0.01544282    best_avg_val_loss: 0.01544282\n"
     ]
    }
   ],
   "source": [
    "valid_preds, valid_y = trainer.fit(tr, val, img_class_dict, n_epochs=20, num_workers=0)"
   ]
  },
  {
   "cell_type": "markdown",
   "metadata": {},
   "source": [
    "## Post process - threshold search -"
   ]
  },
  {
   "cell_type": "markdown",
   "metadata": {},
   "source": [
    "Since I used sigmoid for the activation, I've got the 1103 probability output for each data row.\n",
    "\n",
    "I need to decide threshold for this.There are two ways to deal with this.\n",
    "\n",
    "- Class-wise threshold search\n",
    "  - Takes some time but it's natural.\n",
    "- One threshold for all the class\n",
    "  - Low cost way.\n",
    "\n",
    "**UPDATE**\n",
    "I will use the first -> second one."
   ]
  },
  {
   "cell_type": "code",
   "execution_count": 20,
   "metadata": {},
   "outputs": [],
   "source": [
    "def threshold_search(y_pred, y_true):\n",
    "    score = []\n",
    "    candidates = np.arange(0, 0.4, 0.01)\n",
    "    for th in progress_bar(candidates):\n",
    "        yp = (y_pred > th).astype(int)\n",
    "        score.append(fbeta_score(y_pred=yp, y_true=y_true, beta=2, average=\"samples\"))\n",
    "    score = np.array(score)\n",
    "    pm = score.argmax()\n",
    "    best_th, best_score = candidates[pm], score[pm]\n",
    "    plt.plot(candidates, score)\n",
    "    plt.vlines(x=best_th, ymin=score.min(), ymax=score.max())\n",
    "    plt.text(best_th+0.03, best_score-0.01, f'$F_{2}=${best_score:.3f}', fontsize=14);\n",
    "    plt.show()\n",
    "    return best_th, best_score"
   ]
  },
  {
   "cell_type": "code",
   "execution_count": 21,
   "metadata": {},
   "outputs": [
    {
     "data": {
      "text/plain": [
       "'\\ny = train.attribute_ids.map(lambda x: x.split()).values\\ny_true = np.zeros((train.shape[0], 1103)).astype(int)\\nfor i, row in enumerate(y):\\n    for idx in row:\\n        y_true[i, int(idx)] = 1\\n        '"
      ]
     },
     "execution_count": 21,
     "metadata": {},
     "output_type": "execute_result"
    }
   ],
   "source": [
    "'''\n",
    "y = train.attribute_ids.map(lambda x: x.split()).values\n",
    "y_true = np.zeros((train.shape[0], 1103)).astype(int)\n",
    "for i, row in enumerate(y):\n",
    "    for idx in row:\n",
    "        y_true[i, int(idx)] = 1\n",
    "        '''"
   ]
  },
  {
   "cell_type": "code",
   "execution_count": 22,
   "metadata": {},
   "outputs": [
    {
     "data": {
      "text/html": [
       "\n",
       "    <div>\n",
       "        <style>\n",
       "            /* Turns off some styling */\n",
       "            progress {\n",
       "                /* gets rid of default border in Firefox and Opera. */\n",
       "                border: none;\n",
       "                /* Needs to be in here for Safari polyfill so background images work as expected. */\n",
       "                background-size: auto;\n",
       "            }\n",
       "            .progress-bar-interrupted, .progress-bar-interrupted::-webkit-progress-bar {\n",
       "                background: #F44336;\n",
       "            }\n",
       "        </style>\n",
       "      <progress value='40' class='' max='40', style='width:300px; height:20px; vertical-align: middle;'></progress>\n",
       "      100.00% [40/40 01:13<00:00]\n",
       "    </div>\n",
       "    "
      ],
      "text/plain": [
       "<IPython.core.display.HTML object>"
      ]
     },
     "metadata": {},
     "output_type": "display_data"
    },
    {
     "data": {
      "image/png": "[encoded data removed]",
      "text/plain": [
       "<Figure size 432x288 with 1 Axes>"
      ]
     },
     "metadata": {},
     "output_type": "display_data"
    }
   ],
   "source": [
    "best_threshold, best_score = threshold_search(valid_preds, valid_y)"
   ]
  },
  {
   "cell_type": "markdown",
   "metadata": {},
   "source": [
    "## Prediction for test data"
   ]
  },
  {
   "cell_type": "code",
   "execution_count": 23,
   "metadata": {},
   "outputs": [],
   "source": [
    "#test_preds = trainer.predict(test_loader)"
   ]
  },
  {
   "cell_type": "code",
   "execution_count": 24,
   "metadata": {},
   "outputs": [],
   "source": [
    "#preds = (test_preds > best_threshold).astype(int)"
   ]
  },
  {
   "cell_type": "code",
   "execution_count": 25,
   "metadata": {},
   "outputs": [
    {
     "data": {
      "text/plain": [
       "'\\nprediction = []\\nfor i in range(preds.shape[0]):\\n    pred1 = np.argwhere(preds[i] == 1.0).reshape(-1).tolist()\\n    pred_str = \" \".join(list(map(str, pred1)))\\n    prediction.append(pred_str)\\n    \\nsample.attribute_ids = prediction\\nsample.to_csv(\"submission.csv\", index=False)\\nsample.head()\\n'"
      ]
     },
     "execution_count": 25,
     "metadata": {},
     "output_type": "execute_result"
    }
   ],
   "source": [
    "'''\n",
    "prediction = []\n",
    "for i in range(preds.shape[0]):\n",
    "    pred1 = np.argwhere(preds[i] == 1.0).reshape(-1).tolist()\n",
    "    pred_str = \" \".join(list(map(str, pred1)))\n",
    "    prediction.append(pred_str)\n",
    "    \n",
    "sample.attribute_ids = prediction\n",
    "sample.to_csv(\"submission.csv\", index=False)\n",
    "sample.head()\n",
    "'''"
   ]
  }
 ],
 "metadata": {
  "kernelspec": {
   "display_name": "Python 3",
   "language": "python",
   "name": "python3"
  },
  "language_info": {
   "codemirror_mode": {
    "name": "ipython",
    "version": 3
   },
   "file_extension": ".py",
   "mimetype": "text/x-python",
   "name": "python",
   "nbconvert_exporter": "python",
   "pygments_lexer": "ipython3",
   "version": "3.6.4"
  }
 },
 "nbformat": 4,
 "nbformat_minor": 1
}
