{
 "cells": [
  {
   "cell_type": "markdown",
   "metadata": {},
   "source": [
    "# iMet Collection 2019 - FGVC6\n",
    "**Simple baseline for iMet Collection 2019 competition using fastai v1**"
   ]
  },
  {
   "cell_type": "code",
   "execution_count": 1,
   "metadata": {
    "_cell_guid": "79c7e3d0-c299-4dcb-8224-4455121ee9b0",
    "_uuid": "d629ff2d2480ee46fbb7e2d37f6b5fab8052498a"
   },
   "outputs": [
    {
     "data": {
      "text/plain": [
       "'1.0.51'"
      ]
     },
     "execution_count": 1,
     "metadata": {},
     "output_type": "execute_result"
    }
   ],
   "source": [
    "import fastai\n",
    "from fastai.vision import *\n",
    "fastai.__version__"
   ]
  },
  {
   "cell_type": "markdown",
   "metadata": {},
   "source": [
    "# Setup"
   ]
  },
  {
   "cell_type": "code",
   "execution_count": 2,
   "metadata": {},
   "outputs": [],
   "source": [
    "BATCH  = 126\n",
    "SIZE   = 250\n",
    "path = Path('../input/imet-2019-fgvc6/') # iMet data path"
   ]
  },
  {
   "cell_type": "code",
   "execution_count": 3,
   "metadata": {},
   "outputs": [
    {
     "name": "stdout",
     "output_type": "stream",
     "text": [
      "resnet101_0.584.pth  resnet50v15.pth  resnet50v42.pth\r\n",
      "resnet18_0.562.pth   resnet50v27.pth  resnet50v6.pth\r\n",
      "resnet50v12.pth      resnet50v3.pth   resnet50v9.pth\r\n"
     ]
    }
   ],
   "source": [
    "!ls '../input/imet-my-pretrained-models/'"
   ]
  },
  {
   "cell_type": "code",
   "execution_count": 4,
   "metadata": {},
   "outputs": [],
   "source": [
    "Path('models').mkdir(exist_ok=True)\n",
    "!cp '../input/imet-my-pretrained-models/resnet50v3.pth' 'models/'\n",
    "!cp '../input/imet-my-pretrained-models/resnet50v6.pth' 'models/'\n",
    "!cp '../input/imet-my-pretrained-models/resnet50v9.pth' 'models/'\n",
    "!cp '../input/imet-my-pretrained-models/resnet50v12.pth' 'models/'\n",
    "!cp '../input/imet-my-pretrained-models/resnet50v42.pth' 'models/'\n",
    "!cp '../input/imet-my-pretrained-models/resnet50v15.pth' 'models/'\n",
    "!cp '../input/imet-my-pretrained-models/resnet50v27.pth' 'models/'"
   ]
  },
  {
   "cell_type": "code",
   "execution_count": 5,
   "metadata": {},
   "outputs": [
    {
     "data": {
      "text/plain": [
       "['resnet50v42.pth',\n",
       " 'resnet50v12.pth',\n",
       " 'resnet50v9.pth',\n",
       " 'resnet50v6.pth',\n",
       " 'resnet50v3.pth',\n",
       " 'resnet50v15.pth',\n",
       " 'resnet50v27.pth']"
      ]
     },
     "execution_count": 5,
     "metadata": {},
     "output_type": "execute_result"
    }
   ],
   "source": [
    "os.listdir(\"models/\")"
   ]
  },
  {
   "cell_type": "markdown",
   "metadata": {},
   "source": [
    "# Data"
   ]
  },
  {
   "cell_type": "code",
   "execution_count": 6,
   "metadata": {},
   "outputs": [
    {
     "data": {
      "text/html": [
       "<div>\n",
       "<style scoped>\n",
       "    .dataframe tbody tr th:only-of-type {\n",
       "        vertical-align: middle;\n",
       "    }\n",
       "\n",
       "    .dataframe tbody tr th {\n",
       "        vertical-align: top;\n",
       "    }\n",
       "\n",
       "    .dataframe thead th {\n",
       "        text-align: right;\n",
       "    }\n",
       "</style>\n",
       "<table border=\"1\" class=\"dataframe\">\n",
       "  <thead>\n",
       "    <tr style=\"text-align: right;\">\n",
       "      <th></th>\n",
       "      <th>id</th>\n",
       "      <th>attribute_ids</th>\n",
       "    </tr>\n",
       "  </thead>\n",
       "  <tbody>\n",
       "    <tr>\n",
       "      <th>0</th>\n",
       "      <td>1000483014d91860</td>\n",
       "      <td>147 616 813</td>\n",
       "    </tr>\n",
       "    <tr>\n",
       "      <th>1</th>\n",
       "      <td>1000fe2e667721fe</td>\n",
       "      <td>51 616 734 813</td>\n",
       "    </tr>\n",
       "    <tr>\n",
       "      <th>2</th>\n",
       "      <td>1001614cb89646ee</td>\n",
       "      <td>776</td>\n",
       "    </tr>\n",
       "    <tr>\n",
       "      <th>3</th>\n",
       "      <td>10041eb49b297c08</td>\n",
       "      <td>51 671 698 813 1092</td>\n",
       "    </tr>\n",
       "    <tr>\n",
       "      <th>4</th>\n",
       "      <td>100501c227f8beea</td>\n",
       "      <td>13 404 492 903 1093</td>\n",
       "    </tr>\n",
       "  </tbody>\n",
       "</table>\n",
       "</div>"
      ],
      "text/plain": [
       "                 id        attribute_ids\n",
       "0  1000483014d91860          147 616 813\n",
       "1  1000fe2e667721fe       51 616 734 813\n",
       "2  1001614cb89646ee                  776\n",
       "3  10041eb49b297c08  51 671 698 813 1092\n",
       "4  100501c227f8beea  13 404 492 903 1093"
      ]
     },
     "execution_count": 6,
     "metadata": {},
     "output_type": "execute_result"
    }
   ],
   "source": [
    "# Load train dataframe\n",
    "train_df = pd.read_csv(path/'train.csv')\n",
    "train_df.head()"
   ]
  },
  {
   "cell_type": "code",
   "execution_count": 7,
   "metadata": {},
   "outputs": [
    {
     "data": {
      "text/html": [
       "<div>\n",
       "<style scoped>\n",
       "    .dataframe tbody tr th:only-of-type {\n",
       "        vertical-align: middle;\n",
       "    }\n",
       "\n",
       "    .dataframe tbody tr th {\n",
       "        vertical-align: top;\n",
       "    }\n",
       "\n",
       "    .dataframe thead th {\n",
       "        text-align: right;\n",
       "    }\n",
       "</style>\n",
       "<table border=\"1\" class=\"dataframe\">\n",
       "  <thead>\n",
       "    <tr style=\"text-align: right;\">\n",
       "      <th></th>\n",
       "      <th>attribute_id</th>\n",
       "      <th>attribute_name</th>\n",
       "    </tr>\n",
       "  </thead>\n",
       "  <tbody>\n",
       "    <tr>\n",
       "      <th>0</th>\n",
       "      <td>0</td>\n",
       "      <td>culture::abruzzi</td>\n",
       "    </tr>\n",
       "    <tr>\n",
       "      <th>1</th>\n",
       "      <td>1</td>\n",
       "      <td>culture::achaemenid</td>\n",
       "    </tr>\n",
       "    <tr>\n",
       "      <th>2</th>\n",
       "      <td>2</td>\n",
       "      <td>culture::aegean</td>\n",
       "    </tr>\n",
       "    <tr>\n",
       "      <th>3</th>\n",
       "      <td>3</td>\n",
       "      <td>culture::afghan</td>\n",
       "    </tr>\n",
       "    <tr>\n",
       "      <th>4</th>\n",
       "      <td>4</td>\n",
       "      <td>culture::after british</td>\n",
       "    </tr>\n",
       "  </tbody>\n",
       "</table>\n",
       "</div>"
      ],
      "text/plain": [
       "   attribute_id          attribute_name\n",
       "0             0        culture::abruzzi\n",
       "1             1     culture::achaemenid\n",
       "2             2         culture::aegean\n",
       "3             3         culture::afghan\n",
       "4             4  culture::after british"
      ]
     },
     "execution_count": 7,
     "metadata": {},
     "output_type": "execute_result"
    }
   ],
   "source": [
    "# Load labels dataframe\n",
    "labels_df = pd.read_csv(path/'labels.csv')\n",
    "labels_df.head()"
   ]
  },
  {
   "cell_type": "code",
   "execution_count": 8,
   "metadata": {},
   "outputs": [
    {
     "data": {
      "text/html": [
       "<div>\n",
       "<style scoped>\n",
       "    .dataframe tbody tr th:only-of-type {\n",
       "        vertical-align: middle;\n",
       "    }\n",
       "\n",
       "    .dataframe tbody tr th {\n",
       "        vertical-align: top;\n",
       "    }\n",
       "\n",
       "    .dataframe thead th {\n",
       "        text-align: right;\n",
       "    }\n",
       "</style>\n",
       "<table border=\"1\" class=\"dataframe\">\n",
       "  <thead>\n",
       "    <tr style=\"text-align: right;\">\n",
       "      <th></th>\n",
       "      <th>id</th>\n",
       "      <th>attribute_ids</th>\n",
       "    </tr>\n",
       "  </thead>\n",
       "  <tbody>\n",
       "    <tr>\n",
       "      <th>0</th>\n",
       "      <td>10023b2cc4ed5f68</td>\n",
       "      <td>0 1 2</td>\n",
       "    </tr>\n",
       "    <tr>\n",
       "      <th>1</th>\n",
       "      <td>100fbe75ed8fd887</td>\n",
       "      <td>0 1 2</td>\n",
       "    </tr>\n",
       "    <tr>\n",
       "      <th>2</th>\n",
       "      <td>101b627524a04f19</td>\n",
       "      <td>0 1 2</td>\n",
       "    </tr>\n",
       "    <tr>\n",
       "      <th>3</th>\n",
       "      <td>10234480c41284c6</td>\n",
       "      <td>0 1 2</td>\n",
       "    </tr>\n",
       "    <tr>\n",
       "      <th>4</th>\n",
       "      <td>1023b0e2636dcea8</td>\n",
       "      <td>0 1 2</td>\n",
       "    </tr>\n",
       "  </tbody>\n",
       "</table>\n",
       "</div>"
      ],
      "text/plain": [
       "                 id attribute_ids\n",
       "0  10023b2cc4ed5f68         0 1 2\n",
       "1  100fbe75ed8fd887         0 1 2\n",
       "2  101b627524a04f19         0 1 2\n",
       "3  10234480c41284c6         0 1 2\n",
       "4  1023b0e2636dcea8         0 1 2"
      ]
     },
     "execution_count": 8,
     "metadata": {},
     "output_type": "execute_result"
    }
   ],
   "source": [
    "# Load sample submission\n",
    "test_df = pd.read_csv(path/'sample_submission.csv')\n",
    "test_df.head()"
   ]
  },
  {
   "cell_type": "markdown",
   "metadata": {},
   "source": [
    "# Create data object using datablock API"
   ]
  },
  {
   "cell_type": "code",
   "execution_count": 9,
   "metadata": {},
   "outputs": [],
   "source": [
    "# Source: https://www.kaggle.com/c/human-protein-atlas-image-classification/discussion/78109\n",
    "class FocalLoss(nn.Module):\n",
    "    def __init__(self, gamma=2):\n",
    "        super().__init__()\n",
    "        self.gamma = gamma\n",
    "\n",
    "    def forward(self, logit, target):\n",
    "        target = target.float()\n",
    "        max_val = (-logit).clamp(min=0)\n",
    "        loss = logit - logit * target + max_val + \\\n",
    "               ((-max_val).exp() + (-logit - max_val).exp()).log()\n",
    "\n",
    "        invprobs = F.logsigmoid(-logit * (target * 2.0 - 1.0))\n",
    "        loss = (invprobs * self.gamma).exp() * loss\n",
    "        if len(loss.size())==2:\n",
    "            loss = loss.sum(dim=1)\n",
    "        return loss.mean()"
   ]
  },
  {
   "cell_type": "code",
   "execution_count": 10,
   "metadata": {},
   "outputs": [],
   "source": [
    "def prediction(model_path, seed_num):\n",
    "    tfms = get_transforms(do_flip=True, flip_vert=False, max_rotate=0.10, max_zoom=1.5, max_warp=0.2, max_lighting=0.2,\n",
    "                     xtra_tfms=[(symmetric_warp(magnitude=(-0,0), p=0)),])\n",
    "    train, test = [ImageList.from_df(df, path=path, cols='id', folder=folder, suffix='.png') \n",
    "               for df, folder in zip([train_df, test_df], ['train', 'test'])]\n",
    "    data = (train.split_by_rand_pct(0.1, seed=seed_num)\n",
    "        .label_from_df(cols='attribute_ids', label_delim=' ')\n",
    "        .add_test(test)\n",
    "        .transform(tfms, size=SIZE, resize_method=ResizeMethod.PAD, padding_mode='border',)\n",
    "        .databunch(path=Path('.'), bs=BATCH).normalize(imagenet_stats))\n",
    "    learn = cnn_learner(data, base_arch=models.resnet50, loss_func=FocalLoss(), metrics=fbeta, pretrained=False)\n",
    "    learn.load(model_path)\n",
    "    # Validation predictions\n",
    "    #valid_preds = learn.get_preds(DatasetType.Valid)\n",
    "    def find_best_fixed_threshold(preds, targs, do_plot=True):\n",
    "        score = []\n",
    "        thrs = np.arange(0, 0.5, 0.01)\n",
    "        for thr in progress_bar(thrs):\n",
    "            score.append(fbeta(valid_preds[0],valid_preds[1], thresh=thr))\n",
    "        score = np.array(score)\n",
    "        pm = score.argmax()\n",
    "        best_thr, best_score = thrs[pm], score[pm].item()\n",
    "        print(f'thr={best_thr:.3f}', f'F2={best_score:.3f}')\n",
    "        return best_thr\n",
    "    i2c = np.array([[i, c] for c, i in learn.data.train_ds.y.c2i.items()]).astype(int) # indices to class number correspondence\n",
    "    #def join_preds(preds, thr):\n",
    "        #return [' '.join(i2c[np.where(t==1)[0],1].astype(str)) for t in (preds[0].sigmoid()>thr).long()]\n",
    "    #best_thr = find_best_fixed_threshold(*valid_preds)\n",
    "    test_preds = learn.TTA(ds_type=DatasetType.Test)\n",
    "    #test_df = pd.read_csv('../input/imet-2019-fgvc6/sample_submission.csv')\n",
    "    #test_df.attribute_ids = join_preds(test_preds, best_thr)\n",
    "    #print(f'thr={best_thr:.3f}')\n",
    "    #return test_df\n",
    "    return test_preds, i2c"
   ]
  },
  {
   "cell_type": "code",
   "execution_count": 11,
   "metadata": {},
   "outputs": [],
   "source": [
    "base_df = pd.DataFrame()\n",
    "base_df[\"label\"] = labels_df['attribute_id']"
   ]
  },
  {
   "cell_type": "code",
   "execution_count": 12,
   "metadata": {},
   "outputs": [
    {
     "data": {
      "text/html": [],
      "text/plain": [
       "<IPython.core.display.HTML object>"
      ]
     },
     "metadata": {},
     "output_type": "display_data"
    }
   ],
   "source": [
    "pred1, i2c1 = prediction(model_path=\"resnet50v3\", seed_num=3)"
   ]
  },
  {
   "cell_type": "code",
   "execution_count": 13,
   "metadata": {},
   "outputs": [],
   "source": [
    "df1 = pd.DataFrame()\n",
    "df1['index1'] = [x[0] for x in i2c1]\n",
    "df1['label'] = [x[1] for x in i2c1]\n",
    "base_df = base_df.merge(df1, on=\"label\", how=\"left\")"
   ]
  },
  {
   "cell_type": "code",
   "execution_count": 14,
   "metadata": {},
   "outputs": [
    {
     "data": {
      "text/html": [],
      "text/plain": [
       "<IPython.core.display.HTML object>"
      ]
     },
     "metadata": {},
     "output_type": "display_data"
    }
   ],
   "source": [
    "pred2, i2c2 = prediction(model_path=\"resnet50v6\", seed_num=6)"
   ]
  },
  {
   "cell_type": "code",
   "execution_count": 15,
   "metadata": {},
   "outputs": [],
   "source": [
    "df2 = pd.DataFrame()\n",
    "df2['index2'] = [x[0] for x in i2c2]\n",
    "df2['label'] = [x[1] for x in i2c2]\n",
    "base_df = base_df.merge(df2, on=\"label\", how=\"left\")"
   ]
  },
  {
   "cell_type": "code",
   "execution_count": 16,
   "metadata": {},
   "outputs": [
    {
     "data": {
      "text/html": [],
      "text/plain": [
       "<IPython.core.display.HTML object>"
      ]
     },
     "metadata": {},
     "output_type": "display_data"
    }
   ],
   "source": [
    "pred3, i2c3 = prediction(model_path=\"resnet50v9\", seed_num=9)"
   ]
  },
  {
   "cell_type": "code",
   "execution_count": 17,
   "metadata": {},
   "outputs": [],
   "source": [
    "df3 = pd.DataFrame()\n",
    "df3['index3'] = [x[0] for x in i2c3]\n",
    "df3['label'] = [x[1] for x in i2c3]\n",
    "base_df = base_df.merge(df3, on=\"label\", how=\"left\")"
   ]
  },
  {
   "cell_type": "code",
   "execution_count": 18,
   "metadata": {},
   "outputs": [
    {
     "data": {
      "text/html": [],
      "text/plain": [
       "<IPython.core.display.HTML object>"
      ]
     },
     "metadata": {},
     "output_type": "display_data"
    }
   ],
   "source": [
    "pred4, i2c4 = prediction(model_path=\"resnet50v12\", seed_num=12)"
   ]
  },
  {
   "cell_type": "code",
   "execution_count": 19,
   "metadata": {},
   "outputs": [],
   "source": [
    "df4 = pd.DataFrame()\n",
    "df4['index4'] = [x[0] for x in i2c4]\n",
    "df4['label'] = [x[1] for x in i2c4]\n",
    "base_df = base_df.merge(df4, on=\"label\", how=\"left\")"
   ]
  },
  {
   "cell_type": "code",
   "execution_count": 20,
   "metadata": {},
   "outputs": [
    {
     "data": {
      "text/html": [],
      "text/plain": [
       "<IPython.core.display.HTML object>"
      ]
     },
     "metadata": {},
     "output_type": "display_data"
    }
   ],
   "source": [
    "pred5, i2c5 = prediction(model_path=\"resnet50v42\", seed_num=42)"
   ]
  },
  {
   "cell_type": "code",
   "execution_count": 21,
   "metadata": {},
   "outputs": [],
   "source": [
    "df5 = pd.DataFrame()\n",
    "df5['index5'] = [x[0] for x in i2c5]\n",
    "df5['label'] = [x[1] for x in i2c5]\n",
    "base_df = base_df.merge(df5, on=\"label\", how=\"left\")"
   ]
  },
  {
   "cell_type": "code",
   "execution_count": 22,
   "metadata": {},
   "outputs": [
    {
     "data": {
      "text/html": [],
      "text/plain": [
       "<IPython.core.display.HTML object>"
      ]
     },
     "metadata": {},
     "output_type": "display_data"
    }
   ],
   "source": [
    "pred6, i2c6 = prediction(model_path=\"resnet50v15\", seed_num=15)"
   ]
  },
  {
   "cell_type": "code",
   "execution_count": 23,
   "metadata": {},
   "outputs": [],
   "source": [
    "df6 = pd.DataFrame()\n",
    "df6['index6'] = [x[0] for x in i2c6]\n",
    "df6['label'] = [x[1] for x in i2c6]\n",
    "base_df = base_df.merge(df6, on=\"label\", how=\"left\")"
   ]
  },
  {
   "cell_type": "code",
   "execution_count": 24,
   "metadata": {},
   "outputs": [
    {
     "data": {
      "text/html": [],
      "text/plain": [
       "<IPython.core.display.HTML object>"
      ]
     },
     "metadata": {},
     "output_type": "display_data"
    }
   ],
   "source": [
    "pred7, i2c7 = prediction(model_path=\"resnet50v27\", seed_num=27)"
   ]
  },
  {
   "cell_type": "code",
   "execution_count": 25,
   "metadata": {},
   "outputs": [],
   "source": [
    "df7 = pd.DataFrame()\n",
    "df7['index7'] = [x[0] for x in i2c7]\n",
    "df7['label'] = [x[1] for x in i2c7]\n",
    "base_df = base_df.merge(df7, on=\"label\", how=\"left\")"
   ]
  },
  {
   "cell_type": "markdown",
   "metadata": {},
   "source": [
    "## Submission"
   ]
  },
  {
   "cell_type": "code",
   "execution_count": 26,
   "metadata": {},
   "outputs": [
    {
     "data": {
      "text/html": [
       "<div>\n",
       "<style scoped>\n",
       "    .dataframe tbody tr th:only-of-type {\n",
       "        vertical-align: middle;\n",
       "    }\n",
       "\n",
       "    .dataframe tbody tr th {\n",
       "        vertical-align: top;\n",
       "    }\n",
       "\n",
       "    .dataframe thead th {\n",
       "        text-align: right;\n",
       "    }\n",
       "</style>\n",
       "<table border=\"1\" class=\"dataframe\">\n",
       "  <thead>\n",
       "    <tr style=\"text-align: right;\">\n",
       "      <th></th>\n",
       "      <th>label</th>\n",
       "      <th>index1</th>\n",
       "      <th>index2</th>\n",
       "      <th>index3</th>\n",
       "      <th>index4</th>\n",
       "      <th>index5</th>\n",
       "      <th>index6</th>\n",
       "      <th>index7</th>\n",
       "    </tr>\n",
       "  </thead>\n",
       "  <tbody>\n",
       "    <tr>\n",
       "      <th>0</th>\n",
       "      <td>0</td>\n",
       "      <td>0</td>\n",
       "      <td>0.0</td>\n",
       "      <td>0.0</td>\n",
       "      <td>0.0</td>\n",
       "      <td>0</td>\n",
       "      <td>0.0</td>\n",
       "      <td>0.0</td>\n",
       "    </tr>\n",
       "    <tr>\n",
       "      <th>1</th>\n",
       "      <td>1</td>\n",
       "      <td>1</td>\n",
       "      <td>1.0</td>\n",
       "      <td>1.0</td>\n",
       "      <td>1.0</td>\n",
       "      <td>1</td>\n",
       "      <td>1.0</td>\n",
       "      <td>1.0</td>\n",
       "    </tr>\n",
       "    <tr>\n",
       "      <th>2</th>\n",
       "      <td>2</td>\n",
       "      <td>215</td>\n",
       "      <td>214.0</td>\n",
       "      <td>214.0</td>\n",
       "      <td>214.0</td>\n",
       "      <td>215</td>\n",
       "      <td>214.0</td>\n",
       "      <td>215.0</td>\n",
       "    </tr>\n",
       "    <tr>\n",
       "      <th>3</th>\n",
       "      <td>3</td>\n",
       "      <td>326</td>\n",
       "      <td>325.0</td>\n",
       "      <td>324.0</td>\n",
       "      <td>325.0</td>\n",
       "      <td>326</td>\n",
       "      <td>325.0</td>\n",
       "      <td>326.0</td>\n",
       "    </tr>\n",
       "    <tr>\n",
       "      <th>4</th>\n",
       "      <td>4</td>\n",
       "      <td>437</td>\n",
       "      <td>436.0</td>\n",
       "      <td>435.0</td>\n",
       "      <td>436.0</td>\n",
       "      <td>437</td>\n",
       "      <td>434.0</td>\n",
       "      <td>437.0</td>\n",
       "    </tr>\n",
       "  </tbody>\n",
       "</table>\n",
       "</div>"
      ],
      "text/plain": [
       "   label  index1  index2  index3  index4  index5  index6  index7\n",
       "0      0       0     0.0     0.0     0.0       0     0.0     0.0\n",
       "1      1       1     1.0     1.0     1.0       1     1.0     1.0\n",
       "2      2     215   214.0   214.0   214.0     215   214.0   215.0\n",
       "3      3     326   325.0   324.0   325.0     326   325.0   326.0\n",
       "4      4     437   436.0   435.0   436.0     437   434.0   437.0"
      ]
     },
     "execution_count": 26,
     "metadata": {},
     "output_type": "execute_result"
    }
   ],
   "source": [
    "base_df.head()"
   ]
  },
  {
   "cell_type": "code",
   "execution_count": 27,
   "metadata": {},
   "outputs": [],
   "source": [
    "#print(base_df[base_df.index2.isnull()])\n",
    "#print(base_df[base_df.index3.isnull()])\n",
    "#print(base_df[base_df.index4.isnull()])"
   ]
  },
  {
   "cell_type": "code",
   "execution_count": 28,
   "metadata": {},
   "outputs": [],
   "source": [
    "#base_df[\"index2\"] = base_df[\"index2\"].fillna(-1).apply(lambda x: int(x))\n",
    "#base_df[\"index3\"] = base_df[\"index3\"].fillna(-1).apply(lambda x: int(x))\n",
    "#base_df[\"index4\"] = base_df[\"index4\"].fillna(-1).apply(lambda x: int(x))"
   ]
  },
  {
   "cell_type": "code",
   "execution_count": 29,
   "metadata": {},
   "outputs": [],
   "source": [
    "#print([i for i in base_df[\"label\"].unique() if i not in base_df[\"index2\"].unique()])\n",
    "#print([i for i in base_df[\"label\"].unique() if i not in base_df[\"index3\"].unique()])\n",
    "#print([i for i in base_df[\"label\"].unique() if i not in base_df[\"index4\"].unique()])"
   ]
  },
  {
   "cell_type": "code",
   "execution_count": 30,
   "metadata": {},
   "outputs": [],
   "source": [
    "#base_df.loc[187, \"index2\"] = 1102\n",
    "#base_df.loc[104, \"index3\"] = 1101\n",
    "#base_df.loc[281, \"index3\"] = 1102\n",
    "#base_df.loc[199, \"index4\"] = 1102"
   ]
  },
  {
   "cell_type": "code",
   "execution_count": 31,
   "metadata": {},
   "outputs": [
    {
     "data": {
      "text/html": [
       "\n",
       "    <div>\n",
       "        <style>\n",
       "            /* Turns off some styling */\n",
       "            progress {\n",
       "                /* gets rid of default border in Firefox and Opera. */\n",
       "                border: none;\n",
       "                /* Needs to be in here for Safari polyfill so background images work as expected. */\n",
       "                background-size: auto;\n",
       "            }\n",
       "            .progress-bar-interrupted, .progress-bar-interrupted::-webkit-progress-bar {\n",
       "                background: #F44336;\n",
       "            }\n",
       "        </style>\n",
       "      <progress value='7' class='' max='7', style='width:300px; height:20px; vertical-align: middle;'></progress>\n",
       "      100.00% [7/7 00:00<00:00]\n",
       "    </div>\n",
       "    "
      ],
      "text/plain": [
       "<IPython.core.display.HTML object>"
      ]
     },
     "metadata": {},
     "output_type": "display_data"
    }
   ],
   "source": [
    "#columns = [\"index1\", \"index2\", \"index3\", \"index4\", \"index5\", \"index6\", \"index7\", \"index8\", \"index9\", \"index10\"]\n",
    "columns = [\"index1\", \"index2\", \"index3\", \"index4\", \"index5\", \"index6\", \"index7\"]\n",
    "missing_columns = []\n",
    "missing_num = []\n",
    "for c in progress_bar(columns):\n",
    "    missing_num.append(base_df[c].isnull().sum())\n",
    "    if base_df[c].isnull().sum()>=1:\n",
    "        missing_columns.append(c)\n",
    "        base_df[c] = base_df[c].fillna(-1).apply(lambda x: int(x))\n",
    "        for i, j in enumerate(base_df[base_df[c]==-1].index):\n",
    "            base_df.loc[j, c] = 1102-i"
   ]
  },
  {
   "cell_type": "code",
   "execution_count": 32,
   "metadata": {},
   "outputs": [],
   "source": [
    "#print(torch.cat([pred2[0].sigmoid(), torch.zeros(len(pred2[0]), 1)], dim=1)[0][base_df.index2])\n",
    "#print(torch.cat([pred2[0].sigmoid(), torch.zeros(len(pred2[0]), 1)], dim=1)[0][base_df.index2][187])"
   ]
  },
  {
   "cell_type": "code",
   "execution_count": 33,
   "metadata": {},
   "outputs": [],
   "source": [
    "#missing_columns = [\"index2\", \"index3\", \"index4\"]\n",
    "#missing_num = [0, 1, 2, 1, 0]"
   ]
  },
  {
   "cell_type": "code",
   "execution_count": 34,
   "metadata": {},
   "outputs": [
    {
     "data": {
      "text/html": [
       "\n",
       "    <div>\n",
       "        <style>\n",
       "            /* Turns off some styling */\n",
       "            progress {\n",
       "                /* gets rid of default border in Firefox and Opera. */\n",
       "                border: none;\n",
       "                /* Needs to be in here for Safari polyfill so background images work as expected. */\n",
       "                background-size: auto;\n",
       "            }\n",
       "            .progress-bar-interrupted, .progress-bar-interrupted::-webkit-progress-bar {\n",
       "                background: #F44336;\n",
       "            }\n",
       "        </style>\n",
       "      <progress value='7443' class='' max='7443', style='width:300px; height:20px; vertical-align: middle;'></progress>\n",
       "      100.00% [7443/7443 02:34<00:00]\n",
       "    </div>\n",
       "    "
      ],
      "text/plain": [
       "<IPython.core.display.HTML object>"
      ]
     },
     "metadata": {},
     "output_type": "display_data"
    },
    {
     "data": {
      "text/html": [
       "\n",
       "    <div>\n",
       "        <style>\n",
       "            /* Turns off some styling */\n",
       "            progress {\n",
       "                /* gets rid of default border in Firefox and Opera. */\n",
       "                border: none;\n",
       "                /* Needs to be in here for Safari polyfill so background images work as expected. */\n",
       "                background-size: auto;\n",
       "            }\n",
       "            .progress-bar-interrupted, .progress-bar-interrupted::-webkit-progress-bar {\n",
       "                background: #F44336;\n",
       "            }\n",
       "        </style>\n",
       "      <progress value='3116' class='' max='7443', style='width:300px; height:20px; vertical-align: middle;'></progress>\n",
       "      41.86% [3116/7443 06:36<09:10]\n",
       "    </div>\n",
       "    "
      ],
      "text/plain": [
       "<IPython.core.display.HTML object>"
      ]
     },
     "metadata": {},
     "output_type": "display_data"
    }
   ],
   "source": [
    "#pred_list = [pred1, pred2, pred3, pred4, pred5, pred6, pred7, pred8, pred9, pred10]\n",
    "pred_list = [pred1, pred2, pred3, pred4, pred5, pred6, pred7]\n",
    "test_preds = torch.zeros(len(test_df), 1103)\n",
    "n = len(pred_list)\n",
    "\n",
    "# No missing columns\n",
    "for i in progress_bar(range(len(test_preds))):\n",
    "    for j, c in enumerate(columns):\n",
    "        if c in missing_columns:\n",
    "            None\n",
    "            #test_preds[i] += torch.cat([pred_list[j][0].sigmoid(), \n",
    "                                     #torch.zeros(len(pred_list[j][0]), base_df[c].isnull().sum())], \n",
    "                                     #dim=1)[i][base_df[c].values] / n\n",
    "        else:\n",
    "            test_preds[i] += pred_list[j][0].sigmoid()[i][base_df[c].values] / n\n",
    "\n",
    "# missing columns\n",
    "for i in progress_bar(range(len(test_preds))):\n",
    "    for j, c in enumerate(columns):\n",
    "        if c in missing_columns:\n",
    "            test_preds[i] += torch.cat([pred_list[j][0].sigmoid(), \n",
    "                                     torch.zeros(len(pred_list[j][0]), missing_num[j])], \n",
    "                                     dim=1)[i][base_df[c].values] / n\n",
    "        else:\n",
    "            None"
   ]
  },
  {
   "cell_type": "code",
   "execution_count": 35,
   "metadata": {},
   "outputs": [],
   "source": [
    "#pred1.to_csv(\"pred1.csv\", index=False)\n",
    "#pred2.to_csv(\"pred2.csv\", index=False)\n",
    "#pred3.to_csv(\"pred3.csv\", index=False)\n",
    "#pred4.to_csv(\"pred4.csv\", index=False)\n",
    "#pred5.to_csv(\"pred5.csv\", index=False)"
   ]
  },
  {
   "cell_type": "code",
   "execution_count": 36,
   "metadata": {},
   "outputs": [],
   "source": [
    "#test_df.to_csv('submission.csv', index=False) "
   ]
  },
  {
   "cell_type": "code",
   "execution_count": 37,
   "metadata": {},
   "outputs": [],
   "source": [
    "threshold = 0.270\n",
    "preds = test_preds > threshold\n",
    "prediction = []\n",
    "for i in range(len(preds)):\n",
    "    pred = np.argwhere(preds[i] == 1.0).reshape(-1).tolist()\n",
    "    pred_str = \" \".join(list(map(str, pred)))\n",
    "    prediction.append(pred_str)"
   ]
  },
  {
   "cell_type": "code",
   "execution_count": 38,
   "metadata": {},
   "outputs": [
    {
     "data": {
      "text/html": [
       "<div>\n",
       "<style scoped>\n",
       "    .dataframe tbody tr th:only-of-type {\n",
       "        vertical-align: middle;\n",
       "    }\n",
       "\n",
       "    .dataframe tbody tr th {\n",
       "        vertical-align: top;\n",
       "    }\n",
       "\n",
       "    .dataframe thead th {\n",
       "        text-align: right;\n",
       "    }\n",
       "</style>\n",
       "<table border=\"1\" class=\"dataframe\">\n",
       "  <thead>\n",
       "    <tr style=\"text-align: right;\">\n",
       "      <th></th>\n",
       "      <th>id</th>\n",
       "      <th>attribute_ids</th>\n",
       "    </tr>\n",
       "  </thead>\n",
       "  <tbody>\n",
       "    <tr>\n",
       "      <th>0</th>\n",
       "      <td>10023b2cc4ed5f68</td>\n",
       "      <td>195 223 289 344 369 766 1059</td>\n",
       "    </tr>\n",
       "    <tr>\n",
       "      <th>1</th>\n",
       "      <td>100fbe75ed8fd887</td>\n",
       "      <td>93 231 872 1039</td>\n",
       "    </tr>\n",
       "    <tr>\n",
       "      <th>2</th>\n",
       "      <td>101b627524a04f19</td>\n",
       "      <td>79 420 784</td>\n",
       "    </tr>\n",
       "    <tr>\n",
       "      <th>3</th>\n",
       "      <td>10234480c41284c6</td>\n",
       "      <td>147 480 483 725 738 776 813 830 923 1046</td>\n",
       "    </tr>\n",
       "    <tr>\n",
       "      <th>4</th>\n",
       "      <td>1023b0e2636dcea8</td>\n",
       "      <td>147 322 477 584 671 737 738 776 813 954 1046 1092</td>\n",
       "    </tr>\n",
       "  </tbody>\n",
       "</table>\n",
       "</div>"
      ],
      "text/plain": [
       "                 id                                      attribute_ids\n",
       "0  10023b2cc4ed5f68                       195 223 289 344 369 766 1059\n",
       "1  100fbe75ed8fd887                                    93 231 872 1039\n",
       "2  101b627524a04f19                                         79 420 784\n",
       "3  10234480c41284c6           147 480 483 725 738 776 813 830 923 1046\n",
       "4  1023b0e2636dcea8  147 322 477 584 671 737 738 776 813 954 1046 1092"
      ]
     },
     "execution_count": 38,
     "metadata": {},
     "output_type": "execute_result"
    }
   ],
   "source": [
    "#pred_df = pd.DataFrame({\"id\": [i.split('.')[0] for i in os.listdir('../input/imet-2019-fgvc6/test/')]})\n",
    "#pred_df[\"attribute_ids\"] = prediction\n",
    "test_df[\"attribute_ids\"] = prediction\n",
    "#submission = pd.DataFrame(test_df[\"id\"]).merge(pred_df, on=\"id\", how=\"left\")\n",
    "#submission.to_csv(\"submission.csv\", index=False)\n",
    "#submission.head()\n",
    "test_df.to_csv(\"submission.csv\", index=False)\n",
    "test_df.head()"
   ]
  }
 ],
 "metadata": {
  "kernelspec": {
   "display_name": "Python 3",
   "language": "python",
   "name": "python3"
  },
  "language_info": {
   "codemirror_mode": {
    "name": "ipython",
    "version": 3
   },
   "file_extension": ".py",
   "mimetype": "text/x-python",
   "name": "python",
   "nbconvert_exporter": "python",
   "pygments_lexer": "ipython3",
   "version": "3.6.4"
  }
 },
 "nbformat": 4,
 "nbformat_minor": 1
}
