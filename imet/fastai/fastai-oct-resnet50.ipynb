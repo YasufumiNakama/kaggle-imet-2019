{
 "cells": [
  {
   "cell_type": "markdown",
   "metadata": {},
   "source": [
    "# iMet Collection 2019 - FGVC6\n",
    "**Simple baseline for iMet Collection 2019 competition using fastai v1**"
   ]
  },
  {
   "cell_type": "code",
   "execution_count": 1,
   "metadata": {
    "_cell_guid": "79c7e3d0-c299-4dcb-8224-4455121ee9b0",
    "_uuid": "d629ff2d2480ee46fbb7e2d37f6b5fab8052498a"
   },
   "outputs": [
    {
     "data": {
      "text/plain": [
       "'1.0.51'"
      ]
     },
     "execution_count": 1,
     "metadata": {},
     "output_type": "execute_result"
    }
   ],
   "source": [
    "import torch\n",
    "import dill as dill\n",
    "import fastai\n",
    "from fastai.vision import *\n",
    "fastai.__version__"
   ]
  },
  {
   "cell_type": "markdown",
   "metadata": {},
   "source": [
    "# Setup"
   ]
  },
  {
   "cell_type": "code",
   "execution_count": 2,
   "metadata": {},
   "outputs": [],
   "source": [
    "BATCH  = 64\n",
    "SIZE   = 256\n",
    "path = Path('../input/imet-2019-fgvc6/') # iMet data path"
   ]
  },
  {
   "cell_type": "markdown",
   "metadata": {},
   "source": [
    "# Data"
   ]
  },
  {
   "cell_type": "code",
   "execution_count": 3,
   "metadata": {},
   "outputs": [
    {
     "data": {
      "text/html": [
       "<div>\n",
       "<style scoped>\n",
       "    .dataframe tbody tr th:only-of-type {\n",
       "        vertical-align: middle;\n",
       "    }\n",
       "\n",
       "    .dataframe tbody tr th {\n",
       "        vertical-align: top;\n",
       "    }\n",
       "\n",
       "    .dataframe thead th {\n",
       "        text-align: right;\n",
       "    }\n",
       "</style>\n",
       "<table border=\"1\" class=\"dataframe\">\n",
       "  <thead>\n",
       "    <tr style=\"text-align: right;\">\n",
       "      <th></th>\n",
       "      <th>id</th>\n",
       "      <th>attribute_ids</th>\n",
       "    </tr>\n",
       "  </thead>\n",
       "  <tbody>\n",
       "    <tr>\n",
       "      <th>0</th>\n",
       "      <td>1000483014d91860</td>\n",
       "      <td>147 616 813</td>\n",
       "    </tr>\n",
       "    <tr>\n",
       "      <th>1</th>\n",
       "      <td>1000fe2e667721fe</td>\n",
       "      <td>51 616 734 813</td>\n",
       "    </tr>\n",
       "    <tr>\n",
       "      <th>2</th>\n",
       "      <td>1001614cb89646ee</td>\n",
       "      <td>776</td>\n",
       "    </tr>\n",
       "    <tr>\n",
       "      <th>3</th>\n",
       "      <td>10041eb49b297c08</td>\n",
       "      <td>51 671 698 813 1092</td>\n",
       "    </tr>\n",
       "    <tr>\n",
       "      <th>4</th>\n",
       "      <td>100501c227f8beea</td>\n",
       "      <td>13 404 492 903 1093</td>\n",
       "    </tr>\n",
       "  </tbody>\n",
       "</table>\n",
       "</div>"
      ],
      "text/plain": [
       "                 id        attribute_ids\n",
       "0  1000483014d91860          147 616 813\n",
       "1  1000fe2e667721fe       51 616 734 813\n",
       "2  1001614cb89646ee                  776\n",
       "3  10041eb49b297c08  51 671 698 813 1092\n",
       "4  100501c227f8beea  13 404 492 903 1093"
      ]
     },
     "execution_count": 3,
     "metadata": {},
     "output_type": "execute_result"
    }
   ],
   "source": [
    "# Load train dataframe\n",
    "train_df = pd.read_csv(path/'train.csv')\n",
    "train_df.head()"
   ]
  },
  {
   "cell_type": "code",
   "execution_count": 4,
   "metadata": {},
   "outputs": [
    {
     "data": {
      "text/html": [
       "<div>\n",
       "<style scoped>\n",
       "    .dataframe tbody tr th:only-of-type {\n",
       "        vertical-align: middle;\n",
       "    }\n",
       "\n",
       "    .dataframe tbody tr th {\n",
       "        vertical-align: top;\n",
       "    }\n",
       "\n",
       "    .dataframe thead th {\n",
       "        text-align: right;\n",
       "    }\n",
       "</style>\n",
       "<table border=\"1\" class=\"dataframe\">\n",
       "  <thead>\n",
       "    <tr style=\"text-align: right;\">\n",
       "      <th></th>\n",
       "      <th>attribute_id</th>\n",
       "      <th>attribute_name</th>\n",
       "    </tr>\n",
       "  </thead>\n",
       "  <tbody>\n",
       "    <tr>\n",
       "      <th>0</th>\n",
       "      <td>0</td>\n",
       "      <td>culture::abruzzi</td>\n",
       "    </tr>\n",
       "    <tr>\n",
       "      <th>1</th>\n",
       "      <td>1</td>\n",
       "      <td>culture::achaemenid</td>\n",
       "    </tr>\n",
       "    <tr>\n",
       "      <th>2</th>\n",
       "      <td>2</td>\n",
       "      <td>culture::aegean</td>\n",
       "    </tr>\n",
       "    <tr>\n",
       "      <th>3</th>\n",
       "      <td>3</td>\n",
       "      <td>culture::afghan</td>\n",
       "    </tr>\n",
       "    <tr>\n",
       "      <th>4</th>\n",
       "      <td>4</td>\n",
       "      <td>culture::after british</td>\n",
       "    </tr>\n",
       "  </tbody>\n",
       "</table>\n",
       "</div>"
      ],
      "text/plain": [
       "   attribute_id          attribute_name\n",
       "0             0        culture::abruzzi\n",
       "1             1     culture::achaemenid\n",
       "2             2         culture::aegean\n",
       "3             3         culture::afghan\n",
       "4             4  culture::after british"
      ]
     },
     "execution_count": 4,
     "metadata": {},
     "output_type": "execute_result"
    }
   ],
   "source": [
    "# Load labels dataframe\n",
    "labels_df = pd.read_csv(path/'labels.csv')\n",
    "labels_df.head()"
   ]
  },
  {
   "cell_type": "code",
   "execution_count": 5,
   "metadata": {},
   "outputs": [
    {
     "data": {
      "text/html": [
       "<div>\n",
       "<style scoped>\n",
       "    .dataframe tbody tr th:only-of-type {\n",
       "        vertical-align: middle;\n",
       "    }\n",
       "\n",
       "    .dataframe tbody tr th {\n",
       "        vertical-align: top;\n",
       "    }\n",
       "\n",
       "    .dataframe thead th {\n",
       "        text-align: right;\n",
       "    }\n",
       "</style>\n",
       "<table border=\"1\" class=\"dataframe\">\n",
       "  <thead>\n",
       "    <tr style=\"text-align: right;\">\n",
       "      <th></th>\n",
       "      <th>id</th>\n",
       "      <th>attribute_ids</th>\n",
       "    </tr>\n",
       "  </thead>\n",
       "  <tbody>\n",
       "    <tr>\n",
       "      <th>0</th>\n",
       "      <td>10023b2cc4ed5f68</td>\n",
       "      <td>0 1 2</td>\n",
       "    </tr>\n",
       "    <tr>\n",
       "      <th>1</th>\n",
       "      <td>100fbe75ed8fd887</td>\n",
       "      <td>0 1 2</td>\n",
       "    </tr>\n",
       "    <tr>\n",
       "      <th>2</th>\n",
       "      <td>101b627524a04f19</td>\n",
       "      <td>0 1 2</td>\n",
       "    </tr>\n",
       "    <tr>\n",
       "      <th>3</th>\n",
       "      <td>10234480c41284c6</td>\n",
       "      <td>0 1 2</td>\n",
       "    </tr>\n",
       "    <tr>\n",
       "      <th>4</th>\n",
       "      <td>1023b0e2636dcea8</td>\n",
       "      <td>0 1 2</td>\n",
       "    </tr>\n",
       "  </tbody>\n",
       "</table>\n",
       "</div>"
      ],
      "text/plain": [
       "                 id attribute_ids\n",
       "0  10023b2cc4ed5f68         0 1 2\n",
       "1  100fbe75ed8fd887         0 1 2\n",
       "2  101b627524a04f19         0 1 2\n",
       "3  10234480c41284c6         0 1 2\n",
       "4  1023b0e2636dcea8         0 1 2"
      ]
     },
     "execution_count": 5,
     "metadata": {},
     "output_type": "execute_result"
    }
   ],
   "source": [
    "# Load sample submission\n",
    "test_df = pd.read_csv(path/'sample_submission.csv')\n",
    "test_df.head()"
   ]
  },
  {
   "cell_type": "markdown",
   "metadata": {},
   "source": [
    "# Create data object using datablock API"
   ]
  },
  {
   "cell_type": "code",
   "execution_count": 6,
   "metadata": {},
   "outputs": [],
   "source": [
    "tfms = get_transforms(do_flip=True, flip_vert=False, max_rotate=0.10, max_zoom=1.5, max_warp=0.2, max_lighting=0.2,\n",
    "                      xtra_tfms=[(symmetric_warp(magnitude=(-0,0), p=0)),])"
   ]
  },
  {
   "cell_type": "code",
   "execution_count": 7,
   "metadata": {},
   "outputs": [],
   "source": [
    "train, test = [ImageList.from_df(df, path=path, cols='id', folder=folder, suffix='.png') \n",
    "               for df, folder in zip([train_df, test_df], ['train', 'test'])]\n",
    "data = (train.split_by_rand_pct(0.1, seed=42)\n",
    "        .label_from_df(cols='attribute_ids', label_delim=' ')\n",
    "        .add_test(test)\n",
    "        .transform(tfms, size=SIZE, resize_method=ResizeMethod.PAD, padding_mode='border',)\n",
    "        .databunch(path=Path('.'), bs=BATCH).normalize(imagenet_stats))"
   ]
  },
  {
   "cell_type": "markdown",
   "metadata": {},
   "source": [
    "# Create learner with pretrenet model and FocalLoss\n",
    "For problems with high class imbalance Focal Loss is usually a better choice than the usual Cross Entropy Loss."
   ]
  },
  {
   "cell_type": "code",
   "execution_count": 8,
   "metadata": {
    "_kg_hide-input": true
   },
   "outputs": [],
   "source": [
    "# Source: https://www.kaggle.com/c/human-protein-atlas-image-classification/discussion/78109\n",
    "class FocalLoss(nn.Module):\n",
    "    def __init__(self, gamma=2):\n",
    "        super().__init__()\n",
    "        self.gamma = gamma\n",
    "\n",
    "    def forward(self, logit, target):\n",
    "        target = target.float()\n",
    "        max_val = (-logit).clamp(min=0)\n",
    "        loss = logit - logit * target + max_val + \\\n",
    "               ((-max_val).exp() + (-logit - max_val).exp()).log()\n",
    "\n",
    "        invprobs = F.logsigmoid(-logit * (target * 2.0 - 1.0))\n",
    "        loss = (invprobs * self.gamma).exp() * loss\n",
    "        if len(loss.size())==2:\n",
    "            loss = loss.sum(dim=1)\n",
    "        return loss.mean()"
   ]
  },
  {
   "cell_type": "code",
   "execution_count": 9,
   "metadata": {},
   "outputs": [],
   "source": [
    "class Classifier(nn.Module):\n",
    "    def __init__(self):\n",
    "        super(Classifier, self).__init__()\n",
    "        \n",
    "    def forward(self, x):\n",
    "        return x"
   ]
  },
  {
   "cell_type": "code",
   "execution_count": 10,
   "metadata": {},
   "outputs": [],
   "source": [
    "# https://github.com/vivym/OctaveConv.pytorch/blob/master/models/octave_resnet.py\n",
    "\n",
    "from functools import partial\n",
    "\n",
    "import torch.nn as nn\n",
    "import torch.nn.functional as F\n",
    "\n",
    "class OctConv(nn.Module):\n",
    "    def __init__(self, in_channels, out_channels, kernel_size, stride=1, padding=0,\n",
    "                 alpha_in=0.25, alpha_out=0.25, type='normal'):\n",
    "        super(OctConv, self).__init__()\n",
    "        self.kernel_size = kernel_size\n",
    "        self.stride = stride\n",
    "        self.type = type\n",
    "        hf_ch_in = int(in_channels * (1 - alpha_in))\n",
    "        hf_ch_out = int(out_channels * (1 - alpha_out))\n",
    "        lf_ch_in = in_channels - hf_ch_in\n",
    "        lf_ch_out = out_channels - hf_ch_out\n",
    "\n",
    "        if type == 'first':\n",
    "            if stride == 2:\n",
    "                self.downsample = nn.AvgPool2d(kernel_size=2, stride=stride)\n",
    "            self.convh = nn.Conv2d(\n",
    "                in_channels, hf_ch_out,\n",
    "                kernel_size=kernel_size, stride=1, padding=padding,\n",
    "            )\n",
    "            self.avg_pool = nn.AvgPool2d(kernel_size=2, stride=2)\n",
    "            self.convl = nn.Conv2d(\n",
    "                in_channels, lf_ch_out,\n",
    "                kernel_size=kernel_size, stride=1, padding=padding,\n",
    "            )\n",
    "        elif type == 'last':\n",
    "            if stride == 2:\n",
    "                self.downsample = nn.AvgPool2d(kernel_size=2, stride=stride)\n",
    "            self.convh = nn.Conv2d(hf_ch_in, out_channels, kernel_size=kernel_size, padding=padding)\n",
    "            self.convl = nn.Conv2d(lf_ch_in, out_channels, kernel_size=kernel_size, padding=padding)\n",
    "            self.upsample = partial(F.interpolate, scale_factor=2, mode=\"nearest\")\n",
    "        else:\n",
    "            if stride == 2:\n",
    "                self.downsample = nn.AvgPool2d(kernel_size=2, stride=stride)\n",
    "\n",
    "            self.L2L = nn.Conv2d(\n",
    "                lf_ch_in, lf_ch_out,\n",
    "                kernel_size=kernel_size, stride=1, padding=padding\n",
    "            )\n",
    "            self.L2H = nn.Conv2d(\n",
    "                lf_ch_in, hf_ch_out,\n",
    "                kernel_size=kernel_size, stride=1, padding=padding\n",
    "            )\n",
    "            self.H2L = nn.Conv2d(\n",
    "                hf_ch_in, lf_ch_out,\n",
    "                kernel_size=kernel_size, stride=1, padding=padding\n",
    "            )\n",
    "            self.H2H = nn.Conv2d(\n",
    "                hf_ch_in, hf_ch_out,\n",
    "                kernel_size=kernel_size, stride=1, padding=padding\n",
    "            )\n",
    "            self.upsample = partial(F.interpolate, scale_factor=2, mode=\"nearest\")\n",
    "            self.avg_pool = partial(F.avg_pool2d, kernel_size=2, stride=2)\n",
    "\n",
    "    def forward(self, x):\n",
    "        if self.type == 'first':\n",
    "            if self.stride == 2:\n",
    "                x = self.downsample(x)\n",
    "\n",
    "            hf = self.convh(x)\n",
    "            lf = self.avg_pool(x)\n",
    "            lf = self.convl(lf)\n",
    "\n",
    "            return hf, lf\n",
    "        elif self.type == 'last':\n",
    "            hf, lf = x\n",
    "            if self.stride == 2:\n",
    "                hf = self.downsample(hf)\n",
    "                return self.convh(hf) + self.convl(lf)\n",
    "            else:\n",
    "                return self.convh(hf) + self.convl(self.upsample(lf))\n",
    "        else:\n",
    "            hf, lf = x\n",
    "            if self.stride == 2:\n",
    "                hf = self.downsample(hf)\n",
    "                return self.H2H(hf) + self.L2H(lf), \\\n",
    "                       self.L2L(F.avg_pool2d(lf, kernel_size=2, stride=2)) + self.H2L(self.avg_pool(hf))\n",
    "            else:\n",
    "                return self.H2H(hf) + self.upsample(self.L2H(lf)), self.L2L(lf) + self.H2L(self.avg_pool(hf))\n",
    "\n",
    "\n",
    "def norm_conv3x3(in_planes, out_planes, stride=1, type=None):\n",
    "    \"\"\"3x3 convolution with padding\"\"\"\n",
    "    return nn.Conv2d(in_planes, out_planes, kernel_size=3, stride=stride,\n",
    "                     padding=1, bias=False)\n",
    "\n",
    "\n",
    "def norm_conv1x1(in_planes, out_planes, stride=1, type=None):\n",
    "    \"\"\"1x1 convolution\"\"\"\n",
    "    return nn.Conv2d(in_planes, out_planes, kernel_size=1, stride=stride, bias=False)\n",
    "\n",
    "\n",
    "def oct_conv3x3(in_planes, out_planes, stride=1, type='normal'):\n",
    "    \"\"\"3x3 convolution with padding\"\"\"\n",
    "    return OctConv(in_planes, out_planes, kernel_size=3, stride=stride, padding=1, type=type)\n",
    "\n",
    "\n",
    "def oct_conv1x1(in_planes, out_planes, stride=1, type='normal'):\n",
    "    \"\"\"1x1 convolution\"\"\"\n",
    "    return OctConv(in_planes, out_planes, kernel_size=1, stride=stride, type=type)\n",
    "\n",
    "\n",
    "class _BatchNorm2d(nn.Module):\n",
    "    def __init__(self, num_features, alpha_in=0.25, alpha_out=0.25, eps=1e-5, momentum=0.1, affine=True,\n",
    "                 track_running_stats=True):\n",
    "        super(_BatchNorm2d, self).__init__()\n",
    "        hf_ch = int(num_features * (1 - alpha_in))\n",
    "        lf_ch = num_features - hf_ch\n",
    "        self.bnh = nn.BatchNorm2d(hf_ch)\n",
    "        self.bnl = nn.BatchNorm2d(lf_ch)\n",
    "\n",
    "    def forward(self, x):\n",
    "        hf, lf = x\n",
    "        return self.bnh(hf), self.bnl(lf)\n",
    "\n",
    "\n",
    "class _ReLU(nn.ReLU):\n",
    "    def forward(self, x):\n",
    "        hf, lf = x\n",
    "        hf = super(_ReLU, self).forward(hf)\n",
    "        lf = super(_ReLU, self).forward(lf)\n",
    "        return hf, lf\n",
    "\n",
    "\n",
    "class BasicBlock(nn.Module):\n",
    "    expansion = 1\n",
    "\n",
    "    def __init__(self, inplanes, planes, stride=1, downsample=None, type=\"normal\", oct_conv_on=True):\n",
    "        super(BasicBlock, self).__init__()\n",
    "        conv3x3 = oct_conv3x3 if oct_conv_on else norm_conv3x3\n",
    "        norm_func = _BatchNorm2d if oct_conv_on else nn.BatchNorm2d\n",
    "        act_func = _ReLU if oct_conv_on else nn.ReLU\n",
    "        \n",
    "\n",
    "        self.conv1 = conv3x3(inplanes, planes, type=\"first\" if type == \"first\" else \"normal\")\n",
    "        self.bn1 = norm_func(planes)\n",
    "        self.relu1 = act_func(inplace=True)\n",
    "        self.conv2 = conv3x3(planes, planes, stride, type=\"last\" if type == \"last\" else \"normal\")\n",
    "        if type == \"last\":\n",
    "            norm_func = nn.BatchNorm2d\n",
    "            act_func = nn.ReLU\n",
    "        self.bn2 = norm_func(planes)\n",
    "        self.relu2 = act_func(inplace=True)\n",
    "        self.downsample = downsample\n",
    "        self.stride = stride\n",
    "        \n",
    "    def forward(self, x):\n",
    "        identity = x\n",
    "\n",
    "        out = self.conv1(x)\n",
    "        out = self.bn1(out)\n",
    "        out = self.relu1(out)\n",
    "\n",
    "        out = self.conv2(out)\n",
    "        out = self.bn2(out)\n",
    "\n",
    "        if self.downsample is not None:\n",
    "            identity = self.downsample(x)\n",
    "\n",
    "        if isinstance(out, (tuple, list)):\n",
    "            assert len(out) == len(identity) and len(out) == 2\n",
    "            out = (out[0] + identity[0], out[1] + identity[1])\n",
    "        else:\n",
    "            out += identity\n",
    "\n",
    "        out = self.relu2(out)\n",
    "\n",
    "        return out\n",
    "\n",
    "\n",
    "class Bottleneck(nn.Module):\n",
    "    expansion = 4\n",
    "\n",
    "    def __init__(self, inplanes, planes, stride=1, downsample=None, type=\"normal\", oct_conv_on=True):\n",
    "        super(Bottleneck, self).__init__()\n",
    "        conv1x1 = oct_conv1x1 if oct_conv_on else norm_conv1x1\n",
    "        conv3x3 = oct_conv3x3 if oct_conv_on else norm_conv3x3\n",
    "        norm_func = _BatchNorm2d if oct_conv_on else nn.BatchNorm2d\n",
    "        act_func = _ReLU if oct_conv_on else nn.ReLU\n",
    "\n",
    "        self.conv1 = conv1x1(inplanes, planes, type=\"first\" if type == \"first\" else \"normal\")\n",
    "        self.bn1 = norm_func(planes)\n",
    "        self.relu1 = act_func(inplace=True)\n",
    "        self.conv2 = conv3x3(planes, planes, stride, type=\"last\" if type == \"last\" else \"normal\")\n",
    "        if type == \"last\":\n",
    "            conv1x1 = norm_conv1x1\n",
    "            norm_func = nn.BatchNorm2d\n",
    "            act_func = nn.ReLU\n",
    "        self.bn2 = norm_func(planes)\n",
    "        self.relu2 = act_func(inplace=True)\n",
    "        self.conv3 = conv1x1(planes, planes * self.expansion)\n",
    "        self.bn3 = norm_func(planes * self.expansion)\n",
    "        self.relu3 = act_func(inplace=True)\n",
    "        self.downsample = downsample\n",
    "        self.stride = stride\n",
    "\n",
    "    def forward(self, x):\n",
    "        identity = x\n",
    "\n",
    "        out = self.conv1(x)\n",
    "        out = self.bn1(out)\n",
    "        out = self.relu1(out)\n",
    "\n",
    "        out = self.conv2(out)\n",
    "        out = self.bn2(out)\n",
    "        out = self.relu2(out)\n",
    "\n",
    "        out = self.conv3(out)\n",
    "        out = self.bn3(out)\n",
    "\n",
    "        if self.downsample is not None:\n",
    "            identity = self.downsample(x)\n",
    "\n",
    "        if isinstance(out, (tuple, list)):\n",
    "            assert len(out) == len(identity) and len(out) == 2\n",
    "            out = (out[0] + identity[0], out[1] + identity[1])\n",
    "        else:\n",
    "            out += identity\n",
    "        out = self.relu3(out)\n",
    "\n",
    "        return out\n",
    "\n",
    "\n",
    "class OctResNet(nn.Module):\n",
    "    def __init__(self, block, layers, num_classes=1103, zero_init_residual=False):\n",
    "        super(OctResNet, self).__init__()\n",
    "        self.inplanes = 64\n",
    "        self.conv1 = nn.Conv2d(3, 64, kernel_size=7, stride=2, padding=3,\n",
    "                               bias=False)\n",
    "        self.bn1 = nn.BatchNorm2d(64)\n",
    "        self.relu = nn.ReLU(inplace=True)\n",
    "        self.maxpool = nn.MaxPool2d(kernel_size=3, stride=2, padding=1)\n",
    "        self.layer1 = self._make_layer(block, 64, layers[0], type=\"first\")\n",
    "        self.layer2 = self._make_layer(block, 128, layers[1], stride=2)\n",
    "        self.layer3 = self._make_layer(block, 256, layers[2], stride=2)\n",
    "        self.layer4 = self._make_layer(block, 512, layers[3], stride=2, type=\"last\")\n",
    "        self.avgpool = nn.AdaptiveAvgPool2d((1, 1))\n",
    "        self.fc = nn.Linear(512 * block.expansion, num_classes)\n",
    "\n",
    "        for m in self.modules():\n",
    "            if isinstance(m, nn.Conv2d):\n",
    "                nn.init.kaiming_normal_(m.weight, mode='fan_out', nonlinearity='relu')\n",
    "            elif isinstance(m, nn.BatchNorm2d):\n",
    "                nn.init.constant_(m.weight, 1)\n",
    "                nn.init.constant_(m.bias, 0)\n",
    "\n",
    "        # Zero-initialize the last BN in each residual branch,\n",
    "        # so that the residual branch starts with zeros, and each residual block behaves like an identity.\n",
    "        # This improves the model by 0.2~0.3% according to https://arxiv.org/abs/1706.02677\n",
    "        if zero_init_residual:\n",
    "            for m in self.modules():\n",
    "                if isinstance(m, Bottleneck):\n",
    "                    nn.init.constant_(m.bn3.weight, 0)\n",
    "\n",
    "    def _make_layer(self, block, planes, blocks, stride=1, type=\"normal\"):\n",
    "        downsample = None\n",
    "        if stride != 1 or self.inplanes != planes * block.expansion or type=='first':\n",
    "            norm_func = nn.BatchNorm2d if type == \"last\" else _BatchNorm2d\n",
    "            downsample = nn.Sequential(\n",
    "                oct_conv1x1(self.inplanes, planes * block.expansion, stride, type=type),\n",
    "                norm_func(planes * block.expansion),\n",
    "            )\n",
    "\n",
    "        layers = []\n",
    "        layers.append(block(self.inplanes, planes, stride, downsample, type=type))\n",
    "        self.inplanes = planes * block.expansion\n",
    "        for _ in range(1, blocks):\n",
    "            layers.append(block(self.inplanes, planes, oct_conv_on=type != \"last\"))\n",
    "\n",
    "        return nn.Sequential(*layers)\n",
    "\n",
    "    def forward(self, x):\n",
    "        x = self.conv1(x)\n",
    "        x = self.bn1(x)\n",
    "        x = self.relu(x)\n",
    "        x = self.maxpool(x)\n",
    "\n",
    "        x = self.layer1(x)\n",
    "        x = self.layer2(x)\n",
    "        x = self.layer3(x)\n",
    "        x = self.layer4(x)\n",
    "\n",
    "        x = self.avgpool(x)\n",
    "        x = x.view(x.size(0), -1)\n",
    "        x = self.fc(x)\n",
    "\n",
    "        return x\n",
    "\n",
    "\n",
    "def octave_resnet18(pretrained=False, **kwargs):\n",
    "    \"\"\"Constructs a ResNet-18 model.\n",
    "    Args:\n",
    "        pretrained (bool): If True, returns a model pre-trained on ImageNet\n",
    "    \"\"\"\n",
    "    model = OctResNet(BasicBlock, [2, 2, 2, 2], **kwargs)\n",
    "    num_ftrs = model.fc.in_features\n",
    "    model.fc = Classifier()\n",
    "    mlp = nn.Sequential(\n",
    "            nn.Linear(num_ftrs, num_ftrs),\n",
    "            nn.ReLU(),\n",
    "            nn.BatchNorm1d(num_ftrs),\n",
    "            nn.Dropout(0.25),\n",
    "            nn.Linear(num_ftrs, 1103)\n",
    "    )\n",
    "    net = nn.Sequential(\n",
    "            model,\n",
    "            mlp\n",
    "            #nn.Sigmoid()\n",
    "    )\n",
    "    return net\n",
    "\n",
    "\n",
    "def octave_resnet34(pretrained=False, **kwargs):\n",
    "    \"\"\"Constructs a ResNet-34 model.\n",
    "    Args:\n",
    "        pretrained (bool): If True, returns a model pre-trained on ImageNet\n",
    "    \"\"\"\n",
    "    model = OctResNet(BasicBlock, [3, 4, 6, 3], **kwargs)\n",
    "    num_ftrs = model.fc.in_features\n",
    "    model.fc = Classifier()\n",
    "    mlp = nn.Sequential(\n",
    "            nn.Linear(num_ftrs, num_ftrs),\n",
    "            nn.ReLU(),\n",
    "            nn.BatchNorm1d(num_ftrs),\n",
    "            nn.Dropout(0.25),\n",
    "            nn.Linear(num_ftrs, 1103)\n",
    "    )\n",
    "    net = nn.Sequential(\n",
    "            model,\n",
    "            mlp\n",
    "            #nn.Sigmoid()\n",
    "    )\n",
    "    return net\n",
    "\n",
    "\n",
    "def octave_resnet50(pretrained=False, **kwargs):\n",
    "    \"\"\"Constructs a ResNet-50 model.\n",
    "    Args:\n",
    "        pretrained (bool): If True, returns a model pre-trained on ImageNet\n",
    "    \"\"\"\n",
    "    model = OctResNet(Bottleneck, [3, 4, 6, 3], **kwargs)\n",
    "    num_ftrs = model.fc.in_features\n",
    "    model.fc = Classifier()\n",
    "    mlp = nn.Sequential(\n",
    "            nn.Linear(num_ftrs, num_ftrs),\n",
    "            nn.ReLU(),\n",
    "            nn.BatchNorm1d(num_ftrs),\n",
    "            nn.Dropout(0.25),\n",
    "            nn.Linear(num_ftrs, 1103)\n",
    "    )\n",
    "    net = nn.Sequential(\n",
    "            model,\n",
    "            mlp\n",
    "            #nn.Sigmoid()\n",
    "    )\n",
    "    return net\n",
    "\n",
    "\n",
    "def octave_resnet101(pretrained=False, **kwargs):\n",
    "    \"\"\"Constructs a ResNet-101 model.\n",
    "    Args:\n",
    "        pretrained (bool): If True, returns a model pre-trained on ImageNet\n",
    "    \"\"\"\n",
    "    model = OctResNet(Bottleneck, [3, 4, 23, 3], **kwargs)\n",
    "    num_ftrs = model.fc.in_features\n",
    "    model.fc = Classifier()\n",
    "    mlp = nn.Sequential(\n",
    "            nn.Linear(num_ftrs, num_ftrs),\n",
    "            nn.ReLU(),\n",
    "            nn.BatchNorm1d(num_ftrs),\n",
    "            nn.Dropout(0.25),\n",
    "            nn.Linear(num_ftrs, 1103)\n",
    "    )\n",
    "    net = nn.Sequential(\n",
    "            model,\n",
    "            mlp\n",
    "            #nn.Sigmoid()\n",
    "    )\n",
    "    return net\n",
    "\n",
    "\n",
    "def octave_resnet152(pretrained=False, **kwargs):\n",
    "    \"\"\"Constructs a ResNet-152 model.\n",
    "    Args:\n",
    "        pretrained (bool): If True, returns a model pre-trained on ImageNet\n",
    "    \"\"\"\n",
    "    model = OctResNet(Bottleneck, [3, 8, 36, 3], **kwargs)\n",
    "    return model"
   ]
  },
  {
   "cell_type": "code",
   "execution_count": 11,
   "metadata": {},
   "outputs": [],
   "source": [
    "#learn = Learner(data, simple_cnn((3,16,16,2)), loss_func=FocalLoss(), metrics=fbeta)\n",
    "learn = Learner(data, octave_resnet50(), loss_func=FocalLoss(), metrics=fbeta)"
   ]
  },
  {
   "cell_type": "code",
   "execution_count": 12,
   "metadata": {},
   "outputs": [],
   "source": [
    "#learn"
   ]
  },
  {
   "cell_type": "markdown",
   "metadata": {},
   "source": [
    "# Train the model"
   ]
  },
  {
   "cell_type": "code",
   "execution_count": 13,
   "metadata": {},
   "outputs": [
    {
     "data": {
      "text/html": [],
      "text/plain": [
       "<IPython.core.display.HTML object>"
      ]
     },
     "metadata": {},
     "output_type": "display_data"
    },
    {
     "name": "stdout",
     "output_type": "stream",
     "text": [
      "LR Finder is complete, type {learner_name}.recorder.plot() to see the graph.\n"
     ]
    },
    {
     "data": {
      "image/png": "[encoded data removed]",
      "text/plain": [
       "<Figure size 432x288 with 1 Axes>"
      ]
     },
     "metadata": {},
     "output_type": "display_data"
    }
   ],
   "source": [
    "# Find a good learning rate\n",
    "learn.lr_find()\n",
    "learn.recorder.plot()"
   ]
  },
  {
   "cell_type": "code",
   "execution_count": 14,
   "metadata": {},
   "outputs": [
    {
     "data": {
      "text/html": [
       "\n",
       "    <div>\n",
       "        <style>\n",
       "            /* Turns off some styling */\n",
       "            progress {\n",
       "                /* gets rid of default border in Firefox and Opera. */\n",
       "                border: none;\n",
       "                /* Needs to be in here for Safari polyfill so background images work as expected. */\n",
       "                background-size: auto;\n",
       "            }\n",
       "            .progress-bar-interrupted, .progress-bar-interrupted::-webkit-progress-bar {\n",
       "                background: #F44336;\n",
       "            }\n",
       "        </style>\n",
       "      <progress value='1' class='' max='14', style='width:300px; height:20px; vertical-align: middle;'></progress>\n",
       "      7.14% [1/14 35:56<7:47:09]\n",
       "    </div>\n",
       "    \n",
       "<table border=\"1\" class=\"dataframe\">\n",
       "  <thead>\n",
       "    <tr style=\"text-align: left;\">\n",
       "      <th>epoch</th>\n",
       "      <th>train_loss</th>\n",
       "      <th>valid_loss</th>\n",
       "      <th>fbeta</th>\n",
       "      <th>time</th>\n",
       "    </tr>\n",
       "  </thead>\n",
       "  <tbody>\n",
       "    <tr>\n",
       "      <td>0</td>\n",
       "      <td>4.909148</td>\n",
       "      <td>6.308769</td>\n",
       "      <td>0.190422</td>\n",
       "      <td>35:56</td>\n",
       "    </tr>\n",
       "  </tbody>\n",
       "</table><p>\n",
       "\n",
       "    <div>\n",
       "        <style>\n",
       "            /* Turns off some styling */\n",
       "            progress {\n",
       "                /* gets rid of default border in Firefox and Opera. */\n",
       "                border: none;\n",
       "                /* Needs to be in here for Safari polyfill so background images work as expected. */\n",
       "                background-size: auto;\n",
       "            }\n",
       "            .progress-bar-interrupted, .progress-bar-interrupted::-webkit-progress-bar {\n",
       "                background: #F44336;\n",
       "            }\n",
       "        </style>\n",
       "      <progress value='1142' class='' max='1536', style='width:300px; height:20px; vertical-align: middle;'></progress>\n",
       "      74.35% [1142/1536 25:04<08:39 4.8688]\n",
       "    </div>\n",
       "    "
      ],
      "text/plain": [
       "<IPython.core.display.HTML object>"
      ]
     },
     "metadata": {},
     "output_type": "display_data"
    }
   ],
   "source": [
    "learn.unfreeze()\n",
    "learn.fit_one_cycle(14)\n",
    "#learn.fit(10)\n",
    "#learn.freeze()\n",
    "#learn.save('Oct-ResNet18', return_path=True)\n",
    "torch.save(learn.model.state_dict(), 'Oct-ResNet50.pth', pickle_module=dill)"
   ]
  },
  {
   "cell_type": "code",
   "execution_count": 15,
   "metadata": {},
   "outputs": [
    {
     "data": {
      "text/plain": [
       "['__notebook__.ipynb', '__output__.json', 'Oct-ResNet50.pth', 'models']"
      ]
     },
     "execution_count": 15,
     "metadata": {},
     "output_type": "execute_result"
    }
   ],
   "source": [
    "os.listdir('./')"
   ]
  },
  {
   "cell_type": "code",
   "execution_count": 16,
   "metadata": {},
   "outputs": [
    {
     "data": {
      "image/png": "[encoded data removed]",
      "text/plain": [
       "<Figure size 432x288 with 1 Axes>"
      ]
     },
     "metadata": {},
     "output_type": "display_data"
    },
    {
     "data": {
      "image/png": "[encoded data removed]",
      "text/plain": [
       "<Figure size 432x288 with 1 Axes>"
      ]
     },
     "metadata": {},
     "output_type": "display_data"
    },
    {
     "data": {
      "image/png": "[encoded data removed]",
      "text/plain": [
       "<Figure size 432x288 with 1 Axes>"
      ]
     },
     "metadata": {},
     "output_type": "display_data"
    }
   ],
   "source": [
    "learn.recorder.plot()\n",
    "learn.recorder.plot_losses()\n",
    "learn.recorder.plot_metrics()"
   ]
  },
  {
   "cell_type": "code",
   "execution_count": 17,
   "metadata": {},
   "outputs": [],
   "source": [
    "#learn.export()"
   ]
  },
  {
   "cell_type": "markdown",
   "metadata": {},
   "source": [
    "# Get predictions"
   ]
  },
  {
   "cell_type": "code",
   "execution_count": 18,
   "metadata": {
    "_kg_hide-input": true
   },
   "outputs": [],
   "source": [
    "def find_best_fixed_threshold(preds, targs, do_plot=True):\n",
    "    score = []\n",
    "    thrs = np.arange(0, 0.5, 0.01)\n",
    "    for thr in progress_bar(thrs):\n",
    "        score.append(fbeta(valid_preds[0],valid_preds[1], thresh=thr))\n",
    "    score = np.array(score)\n",
    "    pm = score.argmax()\n",
    "    best_thr, best_score = thrs[pm], score[pm].item()\n",
    "    print(f'thr={best_thr:.3f}', f'F2={best_score:.3f}')\n",
    "    if do_plot:\n",
    "        plt.plot(thrs, score)\n",
    "        plt.vlines(x=best_thr, ymin=score.min(), ymax=score.max())\n",
    "        plt.text(best_thr+0.03, best_score-0.01, f'$F_{2}=${best_score:.3f}', fontsize=14);\n",
    "        plt.show()\n",
    "    return best_thr\n",
    "\n",
    "i2c = np.array([[i, c] for c, i in learn.data.train_ds.y.c2i.items()]).astype(int) # indices to class number correspondence\n",
    "\n",
    "def join_preds(preds, thr):\n",
    "    return [' '.join(i2c[np.where(t==1)[0],1].astype(str)) for t in (preds[0].sigmoid()>thr).long()]"
   ]
  },
  {
   "cell_type": "code",
   "execution_count": 19,
   "metadata": {},
   "outputs": [
    {
     "data": {
      "text/html": [
       "\n",
       "    <div>\n",
       "        <style>\n",
       "            /* Turns off some styling */\n",
       "            progress {\n",
       "                /* gets rid of default border in Firefox and Opera. */\n",
       "                border: none;\n",
       "                /* Needs to be in here for Safari polyfill so background images work as expected. */\n",
       "                background-size: auto;\n",
       "            }\n",
       "            .progress-bar-interrupted, .progress-bar-interrupted::-webkit-progress-bar {\n",
       "                background: #F44336;\n",
       "            }\n",
       "        </style>\n",
       "      <progress value='50' class='' max='50', style='width:300px; height:20px; vertical-align: middle;'></progress>\n",
       "      100.00% [50/50 00:08<00:00]\n",
       "    </div>\n",
       "    "
      ],
      "text/plain": [
       "<IPython.core.display.HTML object>"
      ]
     },
     "metadata": {},
     "output_type": "display_data"
    },
    {
     "name": "stdout",
     "output_type": "stream",
     "text": [
      "thr=0.290 F2=0.456\n"
     ]
    },
    {
     "data": {
      "image/png": "[encoded data removed]",
      "text/plain": [
       "<Figure size 432x288 with 1 Axes>"
      ]
     },
     "metadata": {},
     "output_type": "display_data"
    }
   ],
   "source": [
    "# Validation predictions\n",
    "valid_preds = learn.get_preds(DatasetType.Valid)\n",
    "best_thr = find_best_fixed_threshold(*valid_preds)"
   ]
  },
  {
   "cell_type": "code",
   "execution_count": 20,
   "metadata": {},
   "outputs": [],
   "source": [
    "# Test predictions\n",
    "#test_preds = learn.get_preds(DatasetType.Test)\n",
    "#test_df.attribute_ids = join_preds(test_preds, best_thr)\n",
    "#test_df.head()"
   ]
  },
  {
   "cell_type": "code",
   "execution_count": 21,
   "metadata": {},
   "outputs": [],
   "source": [
    "#test_df.to_csv('submission.csv', index=False)"
   ]
  },
  {
   "cell_type": "markdown",
   "metadata": {},
   "source": [
    "## TTA"
   ]
  },
  {
   "cell_type": "code",
   "execution_count": 22,
   "metadata": {},
   "outputs": [],
   "source": [
    "# Validation predictions with TTA\n",
    "#valid_preds = learn.TTA(ds_type=DatasetType.Valid)\n",
    "#best_thr = find_best_fixed_threshold(*valid_preds)"
   ]
  },
  {
   "cell_type": "code",
   "execution_count": 23,
   "metadata": {},
   "outputs": [],
   "source": [
    "# Test predictions with TTA\n",
    "#test_preds = learn.TTA(ds_type=DatasetType.Test)\n",
    "#test_df.attribute_ids = join_preds(test_preds, best_thr)\n",
    "#test_df.head()"
   ]
  },
  {
   "cell_type": "code",
   "execution_count": 24,
   "metadata": {},
   "outputs": [],
   "source": [
    "#test_df.to_csv('submission.csv', index=False) "
   ]
  }
 ],
 "metadata": {
  "kernelspec": {
   "display_name": "Python 3",
   "language": "python",
   "name": "python3"
  },
  "language_info": {
   "codemirror_mode": {
    "name": "ipython",
    "version": 3
   },
   "file_extension": ".py",
   "mimetype": "text/x-python",
   "name": "python",
   "nbconvert_exporter": "python",
   "pygments_lexer": "ipython3",
   "version": "3.6.4"
  }
 },
 "nbformat": 4,
 "nbformat_minor": 1
}
